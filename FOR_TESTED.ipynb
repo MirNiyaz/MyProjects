{
 "cells": [
  {
   "cell_type": "code",
   "execution_count": 74,
   "id": "49e499d4",
   "metadata": {},
   "outputs": [],
   "source": [
    "# FOR TESTED FILE"
   ]
  },
  {
   "cell_type": "code",
   "execution_count": 75,
   "id": "e1c7dbd0",
   "metadata": {},
   "outputs": [],
   "source": [
    "import pandas as pd"
   ]
  },
  {
   "cell_type": "code",
   "execution_count": 76,
   "id": "c13067f9",
   "metadata": {},
   "outputs": [],
   "source": [
    "from xgboost import XGBClassifier"
   ]
  },
  {
   "cell_type": "code",
   "execution_count": 77,
   "id": "07f28ccd",
   "metadata": {},
   "outputs": [],
   "source": [
    "db=pd.read_csv(\"C:\\\\Users\\\\Mir Niyaz\\\\Documents\\\\tested.csv\")"
   ]
  },
  {
   "cell_type": "code",
   "execution_count": 78,
   "id": "f795a0df",
   "metadata": {},
   "outputs": [
    {
     "data": {
      "text/html": [
       "<div>\n",
       "<style scoped>\n",
       "    .dataframe tbody tr th:only-of-type {\n",
       "        vertical-align: middle;\n",
       "    }\n",
       "\n",
       "    .dataframe tbody tr th {\n",
       "        vertical-align: top;\n",
       "    }\n",
       "\n",
       "    .dataframe thead th {\n",
       "        text-align: right;\n",
       "    }\n",
       "</style>\n",
       "<table border=\"1\" class=\"dataframe\">\n",
       "  <thead>\n",
       "    <tr style=\"text-align: right;\">\n",
       "      <th></th>\n",
       "      <th>PassengerId</th>\n",
       "      <th>Survived</th>\n",
       "      <th>Pclass</th>\n",
       "      <th>Name</th>\n",
       "      <th>Sex</th>\n",
       "      <th>Age</th>\n",
       "      <th>SibSp</th>\n",
       "      <th>Parch</th>\n",
       "      <th>Ticket</th>\n",
       "      <th>Fare</th>\n",
       "      <th>Cabin</th>\n",
       "      <th>Embarked</th>\n",
       "    </tr>\n",
       "  </thead>\n",
       "  <tbody>\n",
       "    <tr>\n",
       "      <th>0</th>\n",
       "      <td>892</td>\n",
       "      <td>0</td>\n",
       "      <td>3</td>\n",
       "      <td>Kelly, Mr. James</td>\n",
       "      <td>male</td>\n",
       "      <td>34.5</td>\n",
       "      <td>0</td>\n",
       "      <td>0</td>\n",
       "      <td>330911</td>\n",
       "      <td>7.8292</td>\n",
       "      <td>NaN</td>\n",
       "      <td>Q</td>\n",
       "    </tr>\n",
       "    <tr>\n",
       "      <th>1</th>\n",
       "      <td>893</td>\n",
       "      <td>1</td>\n",
       "      <td>3</td>\n",
       "      <td>Wilkes, Mrs. James (Ellen Needs)</td>\n",
       "      <td>female</td>\n",
       "      <td>47.0</td>\n",
       "      <td>1</td>\n",
       "      <td>0</td>\n",
       "      <td>363272</td>\n",
       "      <td>7.0000</td>\n",
       "      <td>NaN</td>\n",
       "      <td>S</td>\n",
       "    </tr>\n",
       "    <tr>\n",
       "      <th>2</th>\n",
       "      <td>894</td>\n",
       "      <td>0</td>\n",
       "      <td>2</td>\n",
       "      <td>Myles, Mr. Thomas Francis</td>\n",
       "      <td>male</td>\n",
       "      <td>62.0</td>\n",
       "      <td>0</td>\n",
       "      <td>0</td>\n",
       "      <td>240276</td>\n",
       "      <td>9.6875</td>\n",
       "      <td>NaN</td>\n",
       "      <td>Q</td>\n",
       "    </tr>\n",
       "    <tr>\n",
       "      <th>3</th>\n",
       "      <td>895</td>\n",
       "      <td>0</td>\n",
       "      <td>3</td>\n",
       "      <td>Wirz, Mr. Albert</td>\n",
       "      <td>male</td>\n",
       "      <td>27.0</td>\n",
       "      <td>0</td>\n",
       "      <td>0</td>\n",
       "      <td>315154</td>\n",
       "      <td>8.6625</td>\n",
       "      <td>NaN</td>\n",
       "      <td>S</td>\n",
       "    </tr>\n",
       "    <tr>\n",
       "      <th>4</th>\n",
       "      <td>896</td>\n",
       "      <td>1</td>\n",
       "      <td>3</td>\n",
       "      <td>Hirvonen, Mrs. Alexander (Helga E Lindqvist)</td>\n",
       "      <td>female</td>\n",
       "      <td>22.0</td>\n",
       "      <td>1</td>\n",
       "      <td>1</td>\n",
       "      <td>3101298</td>\n",
       "      <td>12.2875</td>\n",
       "      <td>NaN</td>\n",
       "      <td>S</td>\n",
       "    </tr>\n",
       "    <tr>\n",
       "      <th>...</th>\n",
       "      <td>...</td>\n",
       "      <td>...</td>\n",
       "      <td>...</td>\n",
       "      <td>...</td>\n",
       "      <td>...</td>\n",
       "      <td>...</td>\n",
       "      <td>...</td>\n",
       "      <td>...</td>\n",
       "      <td>...</td>\n",
       "      <td>...</td>\n",
       "      <td>...</td>\n",
       "      <td>...</td>\n",
       "    </tr>\n",
       "    <tr>\n",
       "      <th>413</th>\n",
       "      <td>1305</td>\n",
       "      <td>0</td>\n",
       "      <td>3</td>\n",
       "      <td>Spector, Mr. Woolf</td>\n",
       "      <td>male</td>\n",
       "      <td>NaN</td>\n",
       "      <td>0</td>\n",
       "      <td>0</td>\n",
       "      <td>A.5. 3236</td>\n",
       "      <td>8.0500</td>\n",
       "      <td>NaN</td>\n",
       "      <td>S</td>\n",
       "    </tr>\n",
       "    <tr>\n",
       "      <th>414</th>\n",
       "      <td>1306</td>\n",
       "      <td>1</td>\n",
       "      <td>1</td>\n",
       "      <td>Oliva y Ocana, Dona. Fermina</td>\n",
       "      <td>female</td>\n",
       "      <td>39.0</td>\n",
       "      <td>0</td>\n",
       "      <td>0</td>\n",
       "      <td>PC 17758</td>\n",
       "      <td>108.9000</td>\n",
       "      <td>C105</td>\n",
       "      <td>C</td>\n",
       "    </tr>\n",
       "    <tr>\n",
       "      <th>415</th>\n",
       "      <td>1307</td>\n",
       "      <td>0</td>\n",
       "      <td>3</td>\n",
       "      <td>Saether, Mr. Simon Sivertsen</td>\n",
       "      <td>male</td>\n",
       "      <td>38.5</td>\n",
       "      <td>0</td>\n",
       "      <td>0</td>\n",
       "      <td>SOTON/O.Q. 3101262</td>\n",
       "      <td>7.2500</td>\n",
       "      <td>NaN</td>\n",
       "      <td>S</td>\n",
       "    </tr>\n",
       "    <tr>\n",
       "      <th>416</th>\n",
       "      <td>1308</td>\n",
       "      <td>0</td>\n",
       "      <td>3</td>\n",
       "      <td>Ware, Mr. Frederick</td>\n",
       "      <td>male</td>\n",
       "      <td>NaN</td>\n",
       "      <td>0</td>\n",
       "      <td>0</td>\n",
       "      <td>359309</td>\n",
       "      <td>8.0500</td>\n",
       "      <td>NaN</td>\n",
       "      <td>S</td>\n",
       "    </tr>\n",
       "    <tr>\n",
       "      <th>417</th>\n",
       "      <td>1309</td>\n",
       "      <td>0</td>\n",
       "      <td>3</td>\n",
       "      <td>Peter, Master. Michael J</td>\n",
       "      <td>male</td>\n",
       "      <td>NaN</td>\n",
       "      <td>1</td>\n",
       "      <td>1</td>\n",
       "      <td>2668</td>\n",
       "      <td>22.3583</td>\n",
       "      <td>NaN</td>\n",
       "      <td>C</td>\n",
       "    </tr>\n",
       "  </tbody>\n",
       "</table>\n",
       "<p>418 rows × 12 columns</p>\n",
       "</div>"
      ],
      "text/plain": [
       "     PassengerId  Survived  Pclass  \\\n",
       "0            892         0       3   \n",
       "1            893         1       3   \n",
       "2            894         0       2   \n",
       "3            895         0       3   \n",
       "4            896         1       3   \n",
       "..           ...       ...     ...   \n",
       "413         1305         0       3   \n",
       "414         1306         1       1   \n",
       "415         1307         0       3   \n",
       "416         1308         0       3   \n",
       "417         1309         0       3   \n",
       "\n",
       "                                             Name     Sex   Age  SibSp  Parch  \\\n",
       "0                                Kelly, Mr. James    male  34.5      0      0   \n",
       "1                Wilkes, Mrs. James (Ellen Needs)  female  47.0      1      0   \n",
       "2                       Myles, Mr. Thomas Francis    male  62.0      0      0   \n",
       "3                                Wirz, Mr. Albert    male  27.0      0      0   \n",
       "4    Hirvonen, Mrs. Alexander (Helga E Lindqvist)  female  22.0      1      1   \n",
       "..                                            ...     ...   ...    ...    ...   \n",
       "413                            Spector, Mr. Woolf    male   NaN      0      0   \n",
       "414                  Oliva y Ocana, Dona. Fermina  female  39.0      0      0   \n",
       "415                  Saether, Mr. Simon Sivertsen    male  38.5      0      0   \n",
       "416                           Ware, Mr. Frederick    male   NaN      0      0   \n",
       "417                      Peter, Master. Michael J    male   NaN      1      1   \n",
       "\n",
       "                 Ticket      Fare Cabin Embarked  \n",
       "0                330911    7.8292   NaN        Q  \n",
       "1                363272    7.0000   NaN        S  \n",
       "2                240276    9.6875   NaN        Q  \n",
       "3                315154    8.6625   NaN        S  \n",
       "4               3101298   12.2875   NaN        S  \n",
       "..                  ...       ...   ...      ...  \n",
       "413           A.5. 3236    8.0500   NaN        S  \n",
       "414            PC 17758  108.9000  C105        C  \n",
       "415  SOTON/O.Q. 3101262    7.2500   NaN        S  \n",
       "416              359309    8.0500   NaN        S  \n",
       "417                2668   22.3583   NaN        C  \n",
       "\n",
       "[418 rows x 12 columns]"
      ]
     },
     "execution_count": 78,
     "metadata": {},
     "output_type": "execute_result"
    }
   ],
   "source": [
    "db"
   ]
  },
  {
   "cell_type": "code",
   "execution_count": 79,
   "id": "24a60f6e",
   "metadata": {},
   "outputs": [
    {
     "data": {
      "text/html": [
       "<div>\n",
       "<style scoped>\n",
       "    .dataframe tbody tr th:only-of-type {\n",
       "        vertical-align: middle;\n",
       "    }\n",
       "\n",
       "    .dataframe tbody tr th {\n",
       "        vertical-align: top;\n",
       "    }\n",
       "\n",
       "    .dataframe thead th {\n",
       "        text-align: right;\n",
       "    }\n",
       "</style>\n",
       "<table border=\"1\" class=\"dataframe\">\n",
       "  <thead>\n",
       "    <tr style=\"text-align: right;\">\n",
       "      <th></th>\n",
       "      <th>PassengerId</th>\n",
       "      <th>Survived</th>\n",
       "      <th>Pclass</th>\n",
       "      <th>Name</th>\n",
       "      <th>Sex</th>\n",
       "      <th>Age</th>\n",
       "      <th>SibSp</th>\n",
       "      <th>Parch</th>\n",
       "      <th>Ticket</th>\n",
       "      <th>Fare</th>\n",
       "      <th>Cabin</th>\n",
       "      <th>Embarked</th>\n",
       "    </tr>\n",
       "  </thead>\n",
       "  <tbody>\n",
       "    <tr>\n",
       "      <th>0</th>\n",
       "      <td>892</td>\n",
       "      <td>0</td>\n",
       "      <td>3</td>\n",
       "      <td>Kelly, Mr. James</td>\n",
       "      <td>male</td>\n",
       "      <td>34.5</td>\n",
       "      <td>0</td>\n",
       "      <td>0</td>\n",
       "      <td>330911</td>\n",
       "      <td>7.8292</td>\n",
       "      <td>NaN</td>\n",
       "      <td>Q</td>\n",
       "    </tr>\n",
       "    <tr>\n",
       "      <th>1</th>\n",
       "      <td>893</td>\n",
       "      <td>1</td>\n",
       "      <td>3</td>\n",
       "      <td>Wilkes, Mrs. James (Ellen Needs)</td>\n",
       "      <td>female</td>\n",
       "      <td>47.0</td>\n",
       "      <td>1</td>\n",
       "      <td>0</td>\n",
       "      <td>363272</td>\n",
       "      <td>7.0000</td>\n",
       "      <td>NaN</td>\n",
       "      <td>S</td>\n",
       "    </tr>\n",
       "    <tr>\n",
       "      <th>2</th>\n",
       "      <td>894</td>\n",
       "      <td>0</td>\n",
       "      <td>2</td>\n",
       "      <td>Myles, Mr. Thomas Francis</td>\n",
       "      <td>male</td>\n",
       "      <td>62.0</td>\n",
       "      <td>0</td>\n",
       "      <td>0</td>\n",
       "      <td>240276</td>\n",
       "      <td>9.6875</td>\n",
       "      <td>NaN</td>\n",
       "      <td>Q</td>\n",
       "    </tr>\n",
       "    <tr>\n",
       "      <th>3</th>\n",
       "      <td>895</td>\n",
       "      <td>0</td>\n",
       "      <td>3</td>\n",
       "      <td>Wirz, Mr. Albert</td>\n",
       "      <td>male</td>\n",
       "      <td>27.0</td>\n",
       "      <td>0</td>\n",
       "      <td>0</td>\n",
       "      <td>315154</td>\n",
       "      <td>8.6625</td>\n",
       "      <td>NaN</td>\n",
       "      <td>S</td>\n",
       "    </tr>\n",
       "    <tr>\n",
       "      <th>4</th>\n",
       "      <td>896</td>\n",
       "      <td>1</td>\n",
       "      <td>3</td>\n",
       "      <td>Hirvonen, Mrs. Alexander (Helga E Lindqvist)</td>\n",
       "      <td>female</td>\n",
       "      <td>22.0</td>\n",
       "      <td>1</td>\n",
       "      <td>1</td>\n",
       "      <td>3101298</td>\n",
       "      <td>12.2875</td>\n",
       "      <td>NaN</td>\n",
       "      <td>S</td>\n",
       "    </tr>\n",
       "  </tbody>\n",
       "</table>\n",
       "</div>"
      ],
      "text/plain": [
       "   PassengerId  Survived  Pclass  \\\n",
       "0          892         0       3   \n",
       "1          893         1       3   \n",
       "2          894         0       2   \n",
       "3          895         0       3   \n",
       "4          896         1       3   \n",
       "\n",
       "                                           Name     Sex   Age  SibSp  Parch  \\\n",
       "0                              Kelly, Mr. James    male  34.5      0      0   \n",
       "1              Wilkes, Mrs. James (Ellen Needs)  female  47.0      1      0   \n",
       "2                     Myles, Mr. Thomas Francis    male  62.0      0      0   \n",
       "3                              Wirz, Mr. Albert    male  27.0      0      0   \n",
       "4  Hirvonen, Mrs. Alexander (Helga E Lindqvist)  female  22.0      1      1   \n",
       "\n",
       "    Ticket     Fare Cabin Embarked  \n",
       "0   330911   7.8292   NaN        Q  \n",
       "1   363272   7.0000   NaN        S  \n",
       "2   240276   9.6875   NaN        Q  \n",
       "3   315154   8.6625   NaN        S  \n",
       "4  3101298  12.2875   NaN        S  "
      ]
     },
     "execution_count": 79,
     "metadata": {},
     "output_type": "execute_result"
    }
   ],
   "source": [
    "db.head()"
   ]
  },
  {
   "cell_type": "code",
   "execution_count": 80,
   "id": "115eca23",
   "metadata": {},
   "outputs": [
    {
     "data": {
      "text/plain": [
       "PassengerId    False\n",
       "Survived       False\n",
       "Pclass         False\n",
       "Name           False\n",
       "Sex            False\n",
       "Age             True\n",
       "SibSp          False\n",
       "Parch          False\n",
       "Ticket         False\n",
       "Fare            True\n",
       "Cabin           True\n",
       "Embarked       False\n",
       "dtype: bool"
      ]
     },
     "execution_count": 80,
     "metadata": {},
     "output_type": "execute_result"
    }
   ],
   "source": [
    "db.isnull().any()"
   ]
  },
  {
   "cell_type": "code",
   "execution_count": 81,
   "id": "c371e26c",
   "metadata": {},
   "outputs": [
    {
     "data": {
      "text/plain": [
       "PassengerId      0\n",
       "Survived         0\n",
       "Pclass           0\n",
       "Name             0\n",
       "Sex              0\n",
       "Age             86\n",
       "SibSp            0\n",
       "Parch            0\n",
       "Ticket           0\n",
       "Fare             1\n",
       "Cabin          327\n",
       "Embarked         0\n",
       "dtype: int64"
      ]
     },
     "execution_count": 81,
     "metadata": {},
     "output_type": "execute_result"
    }
   ],
   "source": [
    "db.isnull().sum()"
   ]
  },
  {
   "cell_type": "code",
   "execution_count": 82,
   "id": "448b9662",
   "metadata": {},
   "outputs": [],
   "source": [
    "db.Age=db.Age.fillna(db.Age.mean())"
   ]
  },
  {
   "cell_type": "code",
   "execution_count": 83,
   "id": "60273e6b",
   "metadata": {},
   "outputs": [
    {
     "data": {
      "text/plain": [
       "PassengerId      0\n",
       "Survived         0\n",
       "Pclass           0\n",
       "Name             0\n",
       "Sex              0\n",
       "Age              0\n",
       "SibSp            0\n",
       "Parch            0\n",
       "Ticket           0\n",
       "Fare             1\n",
       "Cabin          327\n",
       "Embarked         0\n",
       "dtype: int64"
      ]
     },
     "execution_count": 83,
     "metadata": {},
     "output_type": "execute_result"
    }
   ],
   "source": [
    "db.isnull().sum()"
   ]
  },
  {
   "cell_type": "code",
   "execution_count": 84,
   "id": "9d99d4f1",
   "metadata": {},
   "outputs": [],
   "source": [
    "from sklearn.impute import SimpleImputer\n",
    "import numpy as np"
   ]
  },
  {
   "cell_type": "code",
   "execution_count": 85,
   "id": "8460398b",
   "metadata": {},
   "outputs": [],
   "source": [
    "c=['Cabin']\n",
    "imputer=SimpleImputer(missing_values=np.NAN,strategy='most_frequent')\n",
    "db[c]=imputer.fit_transform(db[c])"
   ]
  },
  {
   "cell_type": "code",
   "execution_count": 86,
   "id": "f81f4a9a",
   "metadata": {},
   "outputs": [
    {
     "data": {
      "text/plain": [
       "PassengerId    0\n",
       "Survived       0\n",
       "Pclass         0\n",
       "Name           0\n",
       "Sex            0\n",
       "Age            0\n",
       "SibSp          0\n",
       "Parch          0\n",
       "Ticket         0\n",
       "Fare           1\n",
       "Cabin          0\n",
       "Embarked       0\n",
       "dtype: int64"
      ]
     },
     "execution_count": 86,
     "metadata": {},
     "output_type": "execute_result"
    }
   ],
   "source": [
    "db.isnull().sum()"
   ]
  },
  {
   "cell_type": "code",
   "execution_count": 87,
   "id": "6c182e42",
   "metadata": {},
   "outputs": [],
   "source": [
    "db['Fare']=db.Fare.ffill()"
   ]
  },
  {
   "cell_type": "code",
   "execution_count": 88,
   "id": "d6299497",
   "metadata": {},
   "outputs": [
    {
     "data": {
      "text/html": [
       "<div>\n",
       "<style scoped>\n",
       "    .dataframe tbody tr th:only-of-type {\n",
       "        vertical-align: middle;\n",
       "    }\n",
       "\n",
       "    .dataframe tbody tr th {\n",
       "        vertical-align: top;\n",
       "    }\n",
       "\n",
       "    .dataframe thead th {\n",
       "        text-align: right;\n",
       "    }\n",
       "</style>\n",
       "<table border=\"1\" class=\"dataframe\">\n",
       "  <thead>\n",
       "    <tr style=\"text-align: right;\">\n",
       "      <th></th>\n",
       "      <th>PassengerId</th>\n",
       "      <th>Survived</th>\n",
       "      <th>Pclass</th>\n",
       "      <th>Name</th>\n",
       "      <th>Sex</th>\n",
       "      <th>Age</th>\n",
       "      <th>SibSp</th>\n",
       "      <th>Parch</th>\n",
       "      <th>Ticket</th>\n",
       "      <th>Fare</th>\n",
       "      <th>Cabin</th>\n",
       "      <th>Embarked</th>\n",
       "    </tr>\n",
       "  </thead>\n",
       "  <tbody>\n",
       "    <tr>\n",
       "      <th>0</th>\n",
       "      <td>892</td>\n",
       "      <td>0</td>\n",
       "      <td>3</td>\n",
       "      <td>Kelly, Mr. James</td>\n",
       "      <td>male</td>\n",
       "      <td>34.50000</td>\n",
       "      <td>0</td>\n",
       "      <td>0</td>\n",
       "      <td>330911</td>\n",
       "      <td>7.8292</td>\n",
       "      <td>B57 B59 B63 B66</td>\n",
       "      <td>Q</td>\n",
       "    </tr>\n",
       "    <tr>\n",
       "      <th>1</th>\n",
       "      <td>893</td>\n",
       "      <td>1</td>\n",
       "      <td>3</td>\n",
       "      <td>Wilkes, Mrs. James (Ellen Needs)</td>\n",
       "      <td>female</td>\n",
       "      <td>47.00000</td>\n",
       "      <td>1</td>\n",
       "      <td>0</td>\n",
       "      <td>363272</td>\n",
       "      <td>7.0000</td>\n",
       "      <td>B57 B59 B63 B66</td>\n",
       "      <td>S</td>\n",
       "    </tr>\n",
       "    <tr>\n",
       "      <th>2</th>\n",
       "      <td>894</td>\n",
       "      <td>0</td>\n",
       "      <td>2</td>\n",
       "      <td>Myles, Mr. Thomas Francis</td>\n",
       "      <td>male</td>\n",
       "      <td>62.00000</td>\n",
       "      <td>0</td>\n",
       "      <td>0</td>\n",
       "      <td>240276</td>\n",
       "      <td>9.6875</td>\n",
       "      <td>B57 B59 B63 B66</td>\n",
       "      <td>Q</td>\n",
       "    </tr>\n",
       "    <tr>\n",
       "      <th>3</th>\n",
       "      <td>895</td>\n",
       "      <td>0</td>\n",
       "      <td>3</td>\n",
       "      <td>Wirz, Mr. Albert</td>\n",
       "      <td>male</td>\n",
       "      <td>27.00000</td>\n",
       "      <td>0</td>\n",
       "      <td>0</td>\n",
       "      <td>315154</td>\n",
       "      <td>8.6625</td>\n",
       "      <td>B57 B59 B63 B66</td>\n",
       "      <td>S</td>\n",
       "    </tr>\n",
       "    <tr>\n",
       "      <th>4</th>\n",
       "      <td>896</td>\n",
       "      <td>1</td>\n",
       "      <td>3</td>\n",
       "      <td>Hirvonen, Mrs. Alexander (Helga E Lindqvist)</td>\n",
       "      <td>female</td>\n",
       "      <td>22.00000</td>\n",
       "      <td>1</td>\n",
       "      <td>1</td>\n",
       "      <td>3101298</td>\n",
       "      <td>12.2875</td>\n",
       "      <td>B57 B59 B63 B66</td>\n",
       "      <td>S</td>\n",
       "    </tr>\n",
       "    <tr>\n",
       "      <th>...</th>\n",
       "      <td>...</td>\n",
       "      <td>...</td>\n",
       "      <td>...</td>\n",
       "      <td>...</td>\n",
       "      <td>...</td>\n",
       "      <td>...</td>\n",
       "      <td>...</td>\n",
       "      <td>...</td>\n",
       "      <td>...</td>\n",
       "      <td>...</td>\n",
       "      <td>...</td>\n",
       "      <td>...</td>\n",
       "    </tr>\n",
       "    <tr>\n",
       "      <th>413</th>\n",
       "      <td>1305</td>\n",
       "      <td>0</td>\n",
       "      <td>3</td>\n",
       "      <td>Spector, Mr. Woolf</td>\n",
       "      <td>male</td>\n",
       "      <td>30.27259</td>\n",
       "      <td>0</td>\n",
       "      <td>0</td>\n",
       "      <td>A.5. 3236</td>\n",
       "      <td>8.0500</td>\n",
       "      <td>B57 B59 B63 B66</td>\n",
       "      <td>S</td>\n",
       "    </tr>\n",
       "    <tr>\n",
       "      <th>414</th>\n",
       "      <td>1306</td>\n",
       "      <td>1</td>\n",
       "      <td>1</td>\n",
       "      <td>Oliva y Ocana, Dona. Fermina</td>\n",
       "      <td>female</td>\n",
       "      <td>39.00000</td>\n",
       "      <td>0</td>\n",
       "      <td>0</td>\n",
       "      <td>PC 17758</td>\n",
       "      <td>108.9000</td>\n",
       "      <td>C105</td>\n",
       "      <td>C</td>\n",
       "    </tr>\n",
       "    <tr>\n",
       "      <th>415</th>\n",
       "      <td>1307</td>\n",
       "      <td>0</td>\n",
       "      <td>3</td>\n",
       "      <td>Saether, Mr. Simon Sivertsen</td>\n",
       "      <td>male</td>\n",
       "      <td>38.50000</td>\n",
       "      <td>0</td>\n",
       "      <td>0</td>\n",
       "      <td>SOTON/O.Q. 3101262</td>\n",
       "      <td>7.2500</td>\n",
       "      <td>B57 B59 B63 B66</td>\n",
       "      <td>S</td>\n",
       "    </tr>\n",
       "    <tr>\n",
       "      <th>416</th>\n",
       "      <td>1308</td>\n",
       "      <td>0</td>\n",
       "      <td>3</td>\n",
       "      <td>Ware, Mr. Frederick</td>\n",
       "      <td>male</td>\n",
       "      <td>30.27259</td>\n",
       "      <td>0</td>\n",
       "      <td>0</td>\n",
       "      <td>359309</td>\n",
       "      <td>8.0500</td>\n",
       "      <td>B57 B59 B63 B66</td>\n",
       "      <td>S</td>\n",
       "    </tr>\n",
       "    <tr>\n",
       "      <th>417</th>\n",
       "      <td>1309</td>\n",
       "      <td>0</td>\n",
       "      <td>3</td>\n",
       "      <td>Peter, Master. Michael J</td>\n",
       "      <td>male</td>\n",
       "      <td>30.27259</td>\n",
       "      <td>1</td>\n",
       "      <td>1</td>\n",
       "      <td>2668</td>\n",
       "      <td>22.3583</td>\n",
       "      <td>B57 B59 B63 B66</td>\n",
       "      <td>C</td>\n",
       "    </tr>\n",
       "  </tbody>\n",
       "</table>\n",
       "<p>418 rows × 12 columns</p>\n",
       "</div>"
      ],
      "text/plain": [
       "     PassengerId  Survived  Pclass  \\\n",
       "0            892         0       3   \n",
       "1            893         1       3   \n",
       "2            894         0       2   \n",
       "3            895         0       3   \n",
       "4            896         1       3   \n",
       "..           ...       ...     ...   \n",
       "413         1305         0       3   \n",
       "414         1306         1       1   \n",
       "415         1307         0       3   \n",
       "416         1308         0       3   \n",
       "417         1309         0       3   \n",
       "\n",
       "                                             Name     Sex       Age  SibSp  \\\n",
       "0                                Kelly, Mr. James    male  34.50000      0   \n",
       "1                Wilkes, Mrs. James (Ellen Needs)  female  47.00000      1   \n",
       "2                       Myles, Mr. Thomas Francis    male  62.00000      0   \n",
       "3                                Wirz, Mr. Albert    male  27.00000      0   \n",
       "4    Hirvonen, Mrs. Alexander (Helga E Lindqvist)  female  22.00000      1   \n",
       "..                                            ...     ...       ...    ...   \n",
       "413                            Spector, Mr. Woolf    male  30.27259      0   \n",
       "414                  Oliva y Ocana, Dona. Fermina  female  39.00000      0   \n",
       "415                  Saether, Mr. Simon Sivertsen    male  38.50000      0   \n",
       "416                           Ware, Mr. Frederick    male  30.27259      0   \n",
       "417                      Peter, Master. Michael J    male  30.27259      1   \n",
       "\n",
       "     Parch              Ticket      Fare            Cabin Embarked  \n",
       "0        0              330911    7.8292  B57 B59 B63 B66        Q  \n",
       "1        0              363272    7.0000  B57 B59 B63 B66        S  \n",
       "2        0              240276    9.6875  B57 B59 B63 B66        Q  \n",
       "3        0              315154    8.6625  B57 B59 B63 B66        S  \n",
       "4        1             3101298   12.2875  B57 B59 B63 B66        S  \n",
       "..     ...                 ...       ...              ...      ...  \n",
       "413      0           A.5. 3236    8.0500  B57 B59 B63 B66        S  \n",
       "414      0            PC 17758  108.9000             C105        C  \n",
       "415      0  SOTON/O.Q. 3101262    7.2500  B57 B59 B63 B66        S  \n",
       "416      0              359309    8.0500  B57 B59 B63 B66        S  \n",
       "417      1                2668   22.3583  B57 B59 B63 B66        C  \n",
       "\n",
       "[418 rows x 12 columns]"
      ]
     },
     "execution_count": 88,
     "metadata": {},
     "output_type": "execute_result"
    }
   ],
   "source": [
    "db"
   ]
  },
  {
   "cell_type": "code",
   "execution_count": 89,
   "id": "32434a94",
   "metadata": {},
   "outputs": [
    {
     "data": {
      "text/plain": [
       "PassengerId    0\n",
       "Survived       0\n",
       "Pclass         0\n",
       "Name           0\n",
       "Sex            0\n",
       "Age            0\n",
       "SibSp          0\n",
       "Parch          0\n",
       "Ticket         0\n",
       "Fare           0\n",
       "Cabin          0\n",
       "Embarked       0\n",
       "dtype: int64"
      ]
     },
     "execution_count": 89,
     "metadata": {},
     "output_type": "execute_result"
    }
   ],
   "source": [
    "db.isnull().sum()"
   ]
  },
  {
   "cell_type": "code",
   "execution_count": 90,
   "id": "4435fe32",
   "metadata": {},
   "outputs": [],
   "source": [
    "db.drop(['PassengerId','Name','SibSp','Parch','Ticket','Fare'],inplace=True,axis=1)     #We can drop them as we dont need them."
   ]
  },
  {
   "cell_type": "code",
   "execution_count": 91,
   "id": "9f8bd7d1",
   "metadata": {},
   "outputs": [
    {
     "data": {
      "text/html": [
       "<div>\n",
       "<style scoped>\n",
       "    .dataframe tbody tr th:only-of-type {\n",
       "        vertical-align: middle;\n",
       "    }\n",
       "\n",
       "    .dataframe tbody tr th {\n",
       "        vertical-align: top;\n",
       "    }\n",
       "\n",
       "    .dataframe thead th {\n",
       "        text-align: right;\n",
       "    }\n",
       "</style>\n",
       "<table border=\"1\" class=\"dataframe\">\n",
       "  <thead>\n",
       "    <tr style=\"text-align: right;\">\n",
       "      <th></th>\n",
       "      <th>Survived</th>\n",
       "      <th>Pclass</th>\n",
       "      <th>Sex</th>\n",
       "      <th>Age</th>\n",
       "      <th>Cabin</th>\n",
       "      <th>Embarked</th>\n",
       "    </tr>\n",
       "  </thead>\n",
       "  <tbody>\n",
       "    <tr>\n",
       "      <th>0</th>\n",
       "      <td>0</td>\n",
       "      <td>3</td>\n",
       "      <td>male</td>\n",
       "      <td>34.50000</td>\n",
       "      <td>B57 B59 B63 B66</td>\n",
       "      <td>Q</td>\n",
       "    </tr>\n",
       "    <tr>\n",
       "      <th>1</th>\n",
       "      <td>1</td>\n",
       "      <td>3</td>\n",
       "      <td>female</td>\n",
       "      <td>47.00000</td>\n",
       "      <td>B57 B59 B63 B66</td>\n",
       "      <td>S</td>\n",
       "    </tr>\n",
       "    <tr>\n",
       "      <th>2</th>\n",
       "      <td>0</td>\n",
       "      <td>2</td>\n",
       "      <td>male</td>\n",
       "      <td>62.00000</td>\n",
       "      <td>B57 B59 B63 B66</td>\n",
       "      <td>Q</td>\n",
       "    </tr>\n",
       "    <tr>\n",
       "      <th>3</th>\n",
       "      <td>0</td>\n",
       "      <td>3</td>\n",
       "      <td>male</td>\n",
       "      <td>27.00000</td>\n",
       "      <td>B57 B59 B63 B66</td>\n",
       "      <td>S</td>\n",
       "    </tr>\n",
       "    <tr>\n",
       "      <th>4</th>\n",
       "      <td>1</td>\n",
       "      <td>3</td>\n",
       "      <td>female</td>\n",
       "      <td>22.00000</td>\n",
       "      <td>B57 B59 B63 B66</td>\n",
       "      <td>S</td>\n",
       "    </tr>\n",
       "    <tr>\n",
       "      <th>...</th>\n",
       "      <td>...</td>\n",
       "      <td>...</td>\n",
       "      <td>...</td>\n",
       "      <td>...</td>\n",
       "      <td>...</td>\n",
       "      <td>...</td>\n",
       "    </tr>\n",
       "    <tr>\n",
       "      <th>413</th>\n",
       "      <td>0</td>\n",
       "      <td>3</td>\n",
       "      <td>male</td>\n",
       "      <td>30.27259</td>\n",
       "      <td>B57 B59 B63 B66</td>\n",
       "      <td>S</td>\n",
       "    </tr>\n",
       "    <tr>\n",
       "      <th>414</th>\n",
       "      <td>1</td>\n",
       "      <td>1</td>\n",
       "      <td>female</td>\n",
       "      <td>39.00000</td>\n",
       "      <td>C105</td>\n",
       "      <td>C</td>\n",
       "    </tr>\n",
       "    <tr>\n",
       "      <th>415</th>\n",
       "      <td>0</td>\n",
       "      <td>3</td>\n",
       "      <td>male</td>\n",
       "      <td>38.50000</td>\n",
       "      <td>B57 B59 B63 B66</td>\n",
       "      <td>S</td>\n",
       "    </tr>\n",
       "    <tr>\n",
       "      <th>416</th>\n",
       "      <td>0</td>\n",
       "      <td>3</td>\n",
       "      <td>male</td>\n",
       "      <td>30.27259</td>\n",
       "      <td>B57 B59 B63 B66</td>\n",
       "      <td>S</td>\n",
       "    </tr>\n",
       "    <tr>\n",
       "      <th>417</th>\n",
       "      <td>0</td>\n",
       "      <td>3</td>\n",
       "      <td>male</td>\n",
       "      <td>30.27259</td>\n",
       "      <td>B57 B59 B63 B66</td>\n",
       "      <td>C</td>\n",
       "    </tr>\n",
       "  </tbody>\n",
       "</table>\n",
       "<p>418 rows × 6 columns</p>\n",
       "</div>"
      ],
      "text/plain": [
       "     Survived  Pclass     Sex       Age            Cabin Embarked\n",
       "0           0       3    male  34.50000  B57 B59 B63 B66        Q\n",
       "1           1       3  female  47.00000  B57 B59 B63 B66        S\n",
       "2           0       2    male  62.00000  B57 B59 B63 B66        Q\n",
       "3           0       3    male  27.00000  B57 B59 B63 B66        S\n",
       "4           1       3  female  22.00000  B57 B59 B63 B66        S\n",
       "..        ...     ...     ...       ...              ...      ...\n",
       "413         0       3    male  30.27259  B57 B59 B63 B66        S\n",
       "414         1       1  female  39.00000             C105        C\n",
       "415         0       3    male  38.50000  B57 B59 B63 B66        S\n",
       "416         0       3    male  30.27259  B57 B59 B63 B66        S\n",
       "417         0       3    male  30.27259  B57 B59 B63 B66        C\n",
       "\n",
       "[418 rows x 6 columns]"
      ]
     },
     "execution_count": 91,
     "metadata": {},
     "output_type": "execute_result"
    }
   ],
   "source": [
    "db"
   ]
  },
  {
   "cell_type": "code",
   "execution_count": 92,
   "id": "39b452b5",
   "metadata": {},
   "outputs": [
    {
     "data": {
      "text/plain": [
       "B57 B59 B63 B66    330\n",
       "C89                  2\n",
       "C116                 2\n",
       "C80                  2\n",
       "C55 C57              2\n",
       "                  ... \n",
       "E45                  1\n",
       "E52                  1\n",
       "D30                  1\n",
       "C62 C64              1\n",
       "C105                 1\n",
       "Name: Cabin, Length: 76, dtype: int64"
      ]
     },
     "execution_count": 92,
     "metadata": {},
     "output_type": "execute_result"
    }
   ],
   "source": [
    "db.Cabin.value_counts()"
   ]
  },
  {
   "cell_type": "code",
   "execution_count": 93,
   "id": "f1d69e45",
   "metadata": {},
   "outputs": [],
   "source": [
    "db.drop(['Cabin'],inplace=True,axis=1)"
   ]
  },
  {
   "cell_type": "code",
   "execution_count": 94,
   "id": "988b37ff",
   "metadata": {},
   "outputs": [],
   "source": [
    "db.Sex=db.Sex.map({'male':0,'female':1})         #To change from string to integer"
   ]
  },
  {
   "cell_type": "code",
   "execution_count": 95,
   "id": "3dff13d8",
   "metadata": {},
   "outputs": [
    {
     "data": {
      "text/html": [
       "<div>\n",
       "<style scoped>\n",
       "    .dataframe tbody tr th:only-of-type {\n",
       "        vertical-align: middle;\n",
       "    }\n",
       "\n",
       "    .dataframe tbody tr th {\n",
       "        vertical-align: top;\n",
       "    }\n",
       "\n",
       "    .dataframe thead th {\n",
       "        text-align: right;\n",
       "    }\n",
       "</style>\n",
       "<table border=\"1\" class=\"dataframe\">\n",
       "  <thead>\n",
       "    <tr style=\"text-align: right;\">\n",
       "      <th></th>\n",
       "      <th>Survived</th>\n",
       "      <th>Pclass</th>\n",
       "      <th>Sex</th>\n",
       "      <th>Age</th>\n",
       "      <th>Embarked</th>\n",
       "    </tr>\n",
       "  </thead>\n",
       "  <tbody>\n",
       "    <tr>\n",
       "      <th>0</th>\n",
       "      <td>0</td>\n",
       "      <td>3</td>\n",
       "      <td>0</td>\n",
       "      <td>34.50000</td>\n",
       "      <td>Q</td>\n",
       "    </tr>\n",
       "    <tr>\n",
       "      <th>1</th>\n",
       "      <td>1</td>\n",
       "      <td>3</td>\n",
       "      <td>1</td>\n",
       "      <td>47.00000</td>\n",
       "      <td>S</td>\n",
       "    </tr>\n",
       "    <tr>\n",
       "      <th>2</th>\n",
       "      <td>0</td>\n",
       "      <td>2</td>\n",
       "      <td>0</td>\n",
       "      <td>62.00000</td>\n",
       "      <td>Q</td>\n",
       "    </tr>\n",
       "    <tr>\n",
       "      <th>3</th>\n",
       "      <td>0</td>\n",
       "      <td>3</td>\n",
       "      <td>0</td>\n",
       "      <td>27.00000</td>\n",
       "      <td>S</td>\n",
       "    </tr>\n",
       "    <tr>\n",
       "      <th>4</th>\n",
       "      <td>1</td>\n",
       "      <td>3</td>\n",
       "      <td>1</td>\n",
       "      <td>22.00000</td>\n",
       "      <td>S</td>\n",
       "    </tr>\n",
       "    <tr>\n",
       "      <th>...</th>\n",
       "      <td>...</td>\n",
       "      <td>...</td>\n",
       "      <td>...</td>\n",
       "      <td>...</td>\n",
       "      <td>...</td>\n",
       "    </tr>\n",
       "    <tr>\n",
       "      <th>413</th>\n",
       "      <td>0</td>\n",
       "      <td>3</td>\n",
       "      <td>0</td>\n",
       "      <td>30.27259</td>\n",
       "      <td>S</td>\n",
       "    </tr>\n",
       "    <tr>\n",
       "      <th>414</th>\n",
       "      <td>1</td>\n",
       "      <td>1</td>\n",
       "      <td>1</td>\n",
       "      <td>39.00000</td>\n",
       "      <td>C</td>\n",
       "    </tr>\n",
       "    <tr>\n",
       "      <th>415</th>\n",
       "      <td>0</td>\n",
       "      <td>3</td>\n",
       "      <td>0</td>\n",
       "      <td>38.50000</td>\n",
       "      <td>S</td>\n",
       "    </tr>\n",
       "    <tr>\n",
       "      <th>416</th>\n",
       "      <td>0</td>\n",
       "      <td>3</td>\n",
       "      <td>0</td>\n",
       "      <td>30.27259</td>\n",
       "      <td>S</td>\n",
       "    </tr>\n",
       "    <tr>\n",
       "      <th>417</th>\n",
       "      <td>0</td>\n",
       "      <td>3</td>\n",
       "      <td>0</td>\n",
       "      <td>30.27259</td>\n",
       "      <td>C</td>\n",
       "    </tr>\n",
       "  </tbody>\n",
       "</table>\n",
       "<p>418 rows × 5 columns</p>\n",
       "</div>"
      ],
      "text/plain": [
       "     Survived  Pclass  Sex       Age Embarked\n",
       "0           0       3    0  34.50000        Q\n",
       "1           1       3    1  47.00000        S\n",
       "2           0       2    0  62.00000        Q\n",
       "3           0       3    0  27.00000        S\n",
       "4           1       3    1  22.00000        S\n",
       "..        ...     ...  ...       ...      ...\n",
       "413         0       3    0  30.27259        S\n",
       "414         1       1    1  39.00000        C\n",
       "415         0       3    0  38.50000        S\n",
       "416         0       3    0  30.27259        S\n",
       "417         0       3    0  30.27259        C\n",
       "\n",
       "[418 rows x 5 columns]"
      ]
     },
     "execution_count": 95,
     "metadata": {},
     "output_type": "execute_result"
    }
   ],
   "source": [
    "db"
   ]
  },
  {
   "cell_type": "code",
   "execution_count": 96,
   "id": "21e215e5",
   "metadata": {},
   "outputs": [],
   "source": [
    "x=db[['Pclass','Sex','Age']]                   #For Taking them in x Axis"
   ]
  },
  {
   "cell_type": "code",
   "execution_count": 97,
   "id": "071004f5",
   "metadata": {},
   "outputs": [
    {
     "data": {
      "text/html": [
       "<div>\n",
       "<style scoped>\n",
       "    .dataframe tbody tr th:only-of-type {\n",
       "        vertical-align: middle;\n",
       "    }\n",
       "\n",
       "    .dataframe tbody tr th {\n",
       "        vertical-align: top;\n",
       "    }\n",
       "\n",
       "    .dataframe thead th {\n",
       "        text-align: right;\n",
       "    }\n",
       "</style>\n",
       "<table border=\"1\" class=\"dataframe\">\n",
       "  <thead>\n",
       "    <tr style=\"text-align: right;\">\n",
       "      <th></th>\n",
       "      <th>Pclass</th>\n",
       "      <th>Sex</th>\n",
       "      <th>Age</th>\n",
       "    </tr>\n",
       "  </thead>\n",
       "  <tbody>\n",
       "    <tr>\n",
       "      <th>0</th>\n",
       "      <td>3</td>\n",
       "      <td>0</td>\n",
       "      <td>34.50000</td>\n",
       "    </tr>\n",
       "    <tr>\n",
       "      <th>1</th>\n",
       "      <td>3</td>\n",
       "      <td>1</td>\n",
       "      <td>47.00000</td>\n",
       "    </tr>\n",
       "    <tr>\n",
       "      <th>2</th>\n",
       "      <td>2</td>\n",
       "      <td>0</td>\n",
       "      <td>62.00000</td>\n",
       "    </tr>\n",
       "    <tr>\n",
       "      <th>3</th>\n",
       "      <td>3</td>\n",
       "      <td>0</td>\n",
       "      <td>27.00000</td>\n",
       "    </tr>\n",
       "    <tr>\n",
       "      <th>4</th>\n",
       "      <td>3</td>\n",
       "      <td>1</td>\n",
       "      <td>22.00000</td>\n",
       "    </tr>\n",
       "    <tr>\n",
       "      <th>...</th>\n",
       "      <td>...</td>\n",
       "      <td>...</td>\n",
       "      <td>...</td>\n",
       "    </tr>\n",
       "    <tr>\n",
       "      <th>413</th>\n",
       "      <td>3</td>\n",
       "      <td>0</td>\n",
       "      <td>30.27259</td>\n",
       "    </tr>\n",
       "    <tr>\n",
       "      <th>414</th>\n",
       "      <td>1</td>\n",
       "      <td>1</td>\n",
       "      <td>39.00000</td>\n",
       "    </tr>\n",
       "    <tr>\n",
       "      <th>415</th>\n",
       "      <td>3</td>\n",
       "      <td>0</td>\n",
       "      <td>38.50000</td>\n",
       "    </tr>\n",
       "    <tr>\n",
       "      <th>416</th>\n",
       "      <td>3</td>\n",
       "      <td>0</td>\n",
       "      <td>30.27259</td>\n",
       "    </tr>\n",
       "    <tr>\n",
       "      <th>417</th>\n",
       "      <td>3</td>\n",
       "      <td>0</td>\n",
       "      <td>30.27259</td>\n",
       "    </tr>\n",
       "  </tbody>\n",
       "</table>\n",
       "<p>418 rows × 3 columns</p>\n",
       "</div>"
      ],
      "text/plain": [
       "     Pclass  Sex       Age\n",
       "0         3    0  34.50000\n",
       "1         3    1  47.00000\n",
       "2         2    0  62.00000\n",
       "3         3    0  27.00000\n",
       "4         3    1  22.00000\n",
       "..      ...  ...       ...\n",
       "413       3    0  30.27259\n",
       "414       1    1  39.00000\n",
       "415       3    0  38.50000\n",
       "416       3    0  30.27259\n",
       "417       3    0  30.27259\n",
       "\n",
       "[418 rows x 3 columns]"
      ]
     },
     "execution_count": 97,
     "metadata": {},
     "output_type": "execute_result"
    }
   ],
   "source": [
    "x"
   ]
  },
  {
   "cell_type": "code",
   "execution_count": 98,
   "id": "cf99c039",
   "metadata": {},
   "outputs": [
    {
     "data": {
      "text/plain": [
       "0      0\n",
       "1      1\n",
       "2      0\n",
       "3      0\n",
       "4      1\n",
       "      ..\n",
       "413    0\n",
       "414    1\n",
       "415    0\n",
       "416    0\n",
       "417    0\n",
       "Name: Survived, Length: 418, dtype: int64"
      ]
     },
     "execution_count": 98,
     "metadata": {},
     "output_type": "execute_result"
    }
   ],
   "source": [
    "y=db.iloc[:,0]\n",
    "y"
   ]
  },
  {
   "cell_type": "code",
   "execution_count": 99,
   "id": "93cb9630",
   "metadata": {},
   "outputs": [
    {
     "data": {
      "text/html": [
       "<div>\n",
       "<style scoped>\n",
       "    .dataframe tbody tr th:only-of-type {\n",
       "        vertical-align: middle;\n",
       "    }\n",
       "\n",
       "    .dataframe tbody tr th {\n",
       "        vertical-align: top;\n",
       "    }\n",
       "\n",
       "    .dataframe thead th {\n",
       "        text-align: right;\n",
       "    }\n",
       "</style>\n",
       "<table border=\"1\" class=\"dataframe\">\n",
       "  <thead>\n",
       "    <tr style=\"text-align: right;\">\n",
       "      <th></th>\n",
       "      <th>Survived</th>\n",
       "      <th>Pclass</th>\n",
       "      <th>Sex</th>\n",
       "      <th>Age</th>\n",
       "      <th>Embarked</th>\n",
       "    </tr>\n",
       "  </thead>\n",
       "  <tbody>\n",
       "    <tr>\n",
       "      <th>0</th>\n",
       "      <td>0</td>\n",
       "      <td>3</td>\n",
       "      <td>0</td>\n",
       "      <td>34.50000</td>\n",
       "      <td>Q</td>\n",
       "    </tr>\n",
       "    <tr>\n",
       "      <th>1</th>\n",
       "      <td>1</td>\n",
       "      <td>3</td>\n",
       "      <td>1</td>\n",
       "      <td>47.00000</td>\n",
       "      <td>S</td>\n",
       "    </tr>\n",
       "    <tr>\n",
       "      <th>2</th>\n",
       "      <td>0</td>\n",
       "      <td>2</td>\n",
       "      <td>0</td>\n",
       "      <td>62.00000</td>\n",
       "      <td>Q</td>\n",
       "    </tr>\n",
       "    <tr>\n",
       "      <th>3</th>\n",
       "      <td>0</td>\n",
       "      <td>3</td>\n",
       "      <td>0</td>\n",
       "      <td>27.00000</td>\n",
       "      <td>S</td>\n",
       "    </tr>\n",
       "    <tr>\n",
       "      <th>4</th>\n",
       "      <td>1</td>\n",
       "      <td>3</td>\n",
       "      <td>1</td>\n",
       "      <td>22.00000</td>\n",
       "      <td>S</td>\n",
       "    </tr>\n",
       "    <tr>\n",
       "      <th>...</th>\n",
       "      <td>...</td>\n",
       "      <td>...</td>\n",
       "      <td>...</td>\n",
       "      <td>...</td>\n",
       "      <td>...</td>\n",
       "    </tr>\n",
       "    <tr>\n",
       "      <th>413</th>\n",
       "      <td>0</td>\n",
       "      <td>3</td>\n",
       "      <td>0</td>\n",
       "      <td>30.27259</td>\n",
       "      <td>S</td>\n",
       "    </tr>\n",
       "    <tr>\n",
       "      <th>414</th>\n",
       "      <td>1</td>\n",
       "      <td>1</td>\n",
       "      <td>1</td>\n",
       "      <td>39.00000</td>\n",
       "      <td>C</td>\n",
       "    </tr>\n",
       "    <tr>\n",
       "      <th>415</th>\n",
       "      <td>0</td>\n",
       "      <td>3</td>\n",
       "      <td>0</td>\n",
       "      <td>38.50000</td>\n",
       "      <td>S</td>\n",
       "    </tr>\n",
       "    <tr>\n",
       "      <th>416</th>\n",
       "      <td>0</td>\n",
       "      <td>3</td>\n",
       "      <td>0</td>\n",
       "      <td>30.27259</td>\n",
       "      <td>S</td>\n",
       "    </tr>\n",
       "    <tr>\n",
       "      <th>417</th>\n",
       "      <td>0</td>\n",
       "      <td>3</td>\n",
       "      <td>0</td>\n",
       "      <td>30.27259</td>\n",
       "      <td>C</td>\n",
       "    </tr>\n",
       "  </tbody>\n",
       "</table>\n",
       "<p>418 rows × 5 columns</p>\n",
       "</div>"
      ],
      "text/plain": [
       "     Survived  Pclass  Sex       Age Embarked\n",
       "0           0       3    0  34.50000        Q\n",
       "1           1       3    1  47.00000        S\n",
       "2           0       2    0  62.00000        Q\n",
       "3           0       3    0  27.00000        S\n",
       "4           1       3    1  22.00000        S\n",
       "..        ...     ...  ...       ...      ...\n",
       "413         0       3    0  30.27259        S\n",
       "414         1       1    1  39.00000        C\n",
       "415         0       3    0  38.50000        S\n",
       "416         0       3    0  30.27259        S\n",
       "417         0       3    0  30.27259        C\n",
       "\n",
       "[418 rows x 5 columns]"
      ]
     },
     "execution_count": 99,
     "metadata": {},
     "output_type": "execute_result"
    }
   ],
   "source": [
    "db"
   ]
  },
  {
   "cell_type": "code",
   "execution_count": 100,
   "id": "18bdfe10",
   "metadata": {},
   "outputs": [],
   "source": [
    "#IMPORTING TRAIN TEST SPLIT"
   ]
  },
  {
   "cell_type": "code",
   "execution_count": 101,
   "id": "110660d2",
   "metadata": {},
   "outputs": [],
   "source": [
    "from sklearn.model_selection import train_test_split"
   ]
  },
  {
   "cell_type": "code",
   "execution_count": 102,
   "id": "cfa3e818",
   "metadata": {},
   "outputs": [],
   "source": [
    "x_train,x_test,y_train,y_test=train_test_split(x,y,test_size=0.2)"
   ]
  },
  {
   "cell_type": "code",
   "execution_count": 103,
   "id": "c67d7751",
   "metadata": {},
   "outputs": [
    {
     "data": {
      "text/html": [
       "<div>\n",
       "<style scoped>\n",
       "    .dataframe tbody tr th:only-of-type {\n",
       "        vertical-align: middle;\n",
       "    }\n",
       "\n",
       "    .dataframe tbody tr th {\n",
       "        vertical-align: top;\n",
       "    }\n",
       "\n",
       "    .dataframe thead th {\n",
       "        text-align: right;\n",
       "    }\n",
       "</style>\n",
       "<table border=\"1\" class=\"dataframe\">\n",
       "  <thead>\n",
       "    <tr style=\"text-align: right;\">\n",
       "      <th></th>\n",
       "      <th>Pclass</th>\n",
       "      <th>Sex</th>\n",
       "      <th>Age</th>\n",
       "    </tr>\n",
       "  </thead>\n",
       "  <tbody>\n",
       "    <tr>\n",
       "      <th>172</th>\n",
       "      <td>3</td>\n",
       "      <td>0</td>\n",
       "      <td>23.0</td>\n",
       "    </tr>\n",
       "    <tr>\n",
       "      <th>167</th>\n",
       "      <td>3</td>\n",
       "      <td>0</td>\n",
       "      <td>18.0</td>\n",
       "    </tr>\n",
       "    <tr>\n",
       "      <th>14</th>\n",
       "      <td>1</td>\n",
       "      <td>1</td>\n",
       "      <td>47.0</td>\n",
       "    </tr>\n",
       "    <tr>\n",
       "      <th>401</th>\n",
       "      <td>2</td>\n",
       "      <td>0</td>\n",
       "      <td>38.0</td>\n",
       "    </tr>\n",
       "    <tr>\n",
       "      <th>235</th>\n",
       "      <td>3</td>\n",
       "      <td>0</td>\n",
       "      <td>20.0</td>\n",
       "    </tr>\n",
       "    <tr>\n",
       "      <th>...</th>\n",
       "      <td>...</td>\n",
       "      <td>...</td>\n",
       "      <td>...</td>\n",
       "    </tr>\n",
       "    <tr>\n",
       "      <th>17</th>\n",
       "      <td>3</td>\n",
       "      <td>0</td>\n",
       "      <td>21.0</td>\n",
       "    </tr>\n",
       "    <tr>\n",
       "      <th>333</th>\n",
       "      <td>3</td>\n",
       "      <td>1</td>\n",
       "      <td>19.0</td>\n",
       "    </tr>\n",
       "    <tr>\n",
       "      <th>64</th>\n",
       "      <td>1</td>\n",
       "      <td>0</td>\n",
       "      <td>13.0</td>\n",
       "    </tr>\n",
       "    <tr>\n",
       "      <th>311</th>\n",
       "      <td>3</td>\n",
       "      <td>0</td>\n",
       "      <td>22.0</td>\n",
       "    </tr>\n",
       "    <tr>\n",
       "      <th>141</th>\n",
       "      <td>1</td>\n",
       "      <td>1</td>\n",
       "      <td>33.0</td>\n",
       "    </tr>\n",
       "  </tbody>\n",
       "</table>\n",
       "<p>334 rows × 3 columns</p>\n",
       "</div>"
      ],
      "text/plain": [
       "     Pclass  Sex   Age\n",
       "172       3    0  23.0\n",
       "167       3    0  18.0\n",
       "14        1    1  47.0\n",
       "401       2    0  38.0\n",
       "235       3    0  20.0\n",
       "..      ...  ...   ...\n",
       "17        3    0  21.0\n",
       "333       3    1  19.0\n",
       "64        1    0  13.0\n",
       "311       3    0  22.0\n",
       "141       1    1  33.0\n",
       "\n",
       "[334 rows x 3 columns]"
      ]
     },
     "execution_count": 103,
     "metadata": {},
     "output_type": "execute_result"
    }
   ],
   "source": [
    "x_train"
   ]
  },
  {
   "cell_type": "code",
   "execution_count": 104,
   "id": "e5199dac",
   "metadata": {},
   "outputs": [
    {
     "data": {
      "text/plain": [
       "172    0\n",
       "167    0\n",
       "14     1\n",
       "401    0\n",
       "235    0\n",
       "      ..\n",
       "17     0\n",
       "333    1\n",
       "64     0\n",
       "311    0\n",
       "141    1\n",
       "Name: Survived, Length: 334, dtype: int64"
      ]
     },
     "execution_count": 104,
     "metadata": {},
     "output_type": "execute_result"
    }
   ],
   "source": [
    "y_train"
   ]
  },
  {
   "cell_type": "code",
   "execution_count": 105,
   "id": "0458a3ae",
   "metadata": {},
   "outputs": [
    {
     "data": {
      "text/html": [
       "<div>\n",
       "<style scoped>\n",
       "    .dataframe tbody tr th:only-of-type {\n",
       "        vertical-align: middle;\n",
       "    }\n",
       "\n",
       "    .dataframe tbody tr th {\n",
       "        vertical-align: top;\n",
       "    }\n",
       "\n",
       "    .dataframe thead th {\n",
       "        text-align: right;\n",
       "    }\n",
       "</style>\n",
       "<table border=\"1\" class=\"dataframe\">\n",
       "  <thead>\n",
       "    <tr style=\"text-align: right;\">\n",
       "      <th></th>\n",
       "      <th>Pclass</th>\n",
       "      <th>Sex</th>\n",
       "      <th>Age</th>\n",
       "    </tr>\n",
       "  </thead>\n",
       "  <tbody>\n",
       "    <tr>\n",
       "      <th>188</th>\n",
       "      <td>3</td>\n",
       "      <td>1</td>\n",
       "      <td>30.27259</td>\n",
       "    </tr>\n",
       "    <tr>\n",
       "      <th>336</th>\n",
       "      <td>2</td>\n",
       "      <td>0</td>\n",
       "      <td>32.00000</td>\n",
       "    </tr>\n",
       "    <tr>\n",
       "      <th>275</th>\n",
       "      <td>2</td>\n",
       "      <td>1</td>\n",
       "      <td>20.00000</td>\n",
       "    </tr>\n",
       "    <tr>\n",
       "      <th>29</th>\n",
       "      <td>3</td>\n",
       "      <td>0</td>\n",
       "      <td>30.27259</td>\n",
       "    </tr>\n",
       "    <tr>\n",
       "      <th>305</th>\n",
       "      <td>1</td>\n",
       "      <td>1</td>\n",
       "      <td>64.00000</td>\n",
       "    </tr>\n",
       "    <tr>\n",
       "      <th>...</th>\n",
       "      <td>...</td>\n",
       "      <td>...</td>\n",
       "      <td>...</td>\n",
       "    </tr>\n",
       "    <tr>\n",
       "      <th>24</th>\n",
       "      <td>1</td>\n",
       "      <td>1</td>\n",
       "      <td>48.00000</td>\n",
       "    </tr>\n",
       "    <tr>\n",
       "      <th>173</th>\n",
       "      <td>3</td>\n",
       "      <td>0</td>\n",
       "      <td>30.27259</td>\n",
       "    </tr>\n",
       "    <tr>\n",
       "      <th>386</th>\n",
       "      <td>3</td>\n",
       "      <td>0</td>\n",
       "      <td>24.00000</td>\n",
       "    </tr>\n",
       "    <tr>\n",
       "      <th>92</th>\n",
       "      <td>1</td>\n",
       "      <td>1</td>\n",
       "      <td>27.00000</td>\n",
       "    </tr>\n",
       "    <tr>\n",
       "      <th>319</th>\n",
       "      <td>2</td>\n",
       "      <td>0</td>\n",
       "      <td>22.00000</td>\n",
       "    </tr>\n",
       "  </tbody>\n",
       "</table>\n",
       "<p>84 rows × 3 columns</p>\n",
       "</div>"
      ],
      "text/plain": [
       "     Pclass  Sex       Age\n",
       "188       3    1  30.27259\n",
       "336       2    0  32.00000\n",
       "275       2    1  20.00000\n",
       "29        3    0  30.27259\n",
       "305       1    1  64.00000\n",
       "..      ...  ...       ...\n",
       "24        1    1  48.00000\n",
       "173       3    0  30.27259\n",
       "386       3    0  24.00000\n",
       "92        1    1  27.00000\n",
       "319       2    0  22.00000\n",
       "\n",
       "[84 rows x 3 columns]"
      ]
     },
     "execution_count": 105,
     "metadata": {},
     "output_type": "execute_result"
    }
   ],
   "source": [
    "x_test"
   ]
  },
  {
   "cell_type": "code",
   "execution_count": 106,
   "id": "ba900b14",
   "metadata": {},
   "outputs": [
    {
     "data": {
      "text/plain": [
       "188    1\n",
       "336    0\n",
       "275    1\n",
       "29     0\n",
       "305    1\n",
       "      ..\n",
       "24     1\n",
       "173    0\n",
       "386    0\n",
       "92     1\n",
       "319    0\n",
       "Name: Survived, Length: 84, dtype: int64"
      ]
     },
     "execution_count": 106,
     "metadata": {},
     "output_type": "execute_result"
    }
   ],
   "source": [
    "y_test"
   ]
  },
  {
   "cell_type": "code",
   "execution_count": 107,
   "id": "907ed7ab",
   "metadata": {},
   "outputs": [
    {
     "data": {
      "text/plain": [
       "334"
      ]
     },
     "execution_count": 107,
     "metadata": {},
     "output_type": "execute_result"
    }
   ],
   "source": [
    "len(x_train)"
   ]
  },
  {
   "cell_type": "code",
   "execution_count": 108,
   "id": "eb4e9c09",
   "metadata": {},
   "outputs": [
    {
     "data": {
      "text/plain": [
       "334"
      ]
     },
     "execution_count": 108,
     "metadata": {},
     "output_type": "execute_result"
    }
   ],
   "source": [
    "len(y_train)"
   ]
  },
  {
   "cell_type": "code",
   "execution_count": 109,
   "id": "589fd77e",
   "metadata": {},
   "outputs": [
    {
     "data": {
      "text/plain": [
       "84"
      ]
     },
     "execution_count": 109,
     "metadata": {},
     "output_type": "execute_result"
    }
   ],
   "source": [
    "len(x_test)"
   ]
  },
  {
   "cell_type": "code",
   "execution_count": 110,
   "id": "758dec9c",
   "metadata": {},
   "outputs": [
    {
     "data": {
      "text/plain": [
       "84"
      ]
     },
     "execution_count": 110,
     "metadata": {},
     "output_type": "execute_result"
    }
   ],
   "source": [
    "len(y_test)"
   ]
  },
  {
   "cell_type": "code",
   "execution_count": 111,
   "id": "71786bd4",
   "metadata": {},
   "outputs": [],
   "source": [
    "# #IMPORT SEABORN"
   ]
  },
  {
   "cell_type": "code",
   "execution_count": 112,
   "id": "9ff4dc1e",
   "metadata": {},
   "outputs": [],
   "source": [
    "import seaborn as sns"
   ]
  },
  {
   "cell_type": "code",
   "execution_count": 113,
   "id": "c15848ce",
   "metadata": {},
   "outputs": [
    {
     "data": {
      "text/plain": [
       "<AxesSubplot:xlabel='Survived', ylabel='count'>"
      ]
     },
     "execution_count": 113,
     "metadata": {},
     "output_type": "execute_result"
    },
    {
     "data": {
      "image/png": "[encoded data removed]",
      "text/plain": [
       "<Figure size 432x288 with 1 Axes>"
      ]
     },
     "metadata": {
      "needs_background": "light"
     },
     "output_type": "display_data"
    }
   ],
   "source": [
    "sns.countplot(x='Survived',data=db)"
   ]
  },
  {
   "cell_type": "code",
   "execution_count": 701,
   "id": "268d0fc3",
   "metadata": {},
   "outputs": [
    {
     "data": {
      "text/plain": [
       "<AxesSubplot:xlabel='Survived', ylabel='count'>"
      ]
     },
     "execution_count": 701,
     "metadata": {},
     "output_type": "execute_result"
    },
    {
     "data": {
      "image/png": "[encoded data removed]",
      "text/plain": [
       "<Figure size 432x288 with 1 Axes>"
      ]
     },
     "metadata": {
      "needs_background": "light"
     },
     "output_type": "display_data"
    }
   ],
   "source": [
    "sns.countplot(x='Survived',hue='Sex',data=db)"
   ]
  },
  {
   "cell_type": "code",
   "execution_count": 702,
   "id": "87b3c170",
   "metadata": {},
   "outputs": [
    {
     "data": {
      "text/plain": [
       "<AxesSubplot:xlabel='Survived', ylabel='count'>"
      ]
     },
     "execution_count": 702,
     "metadata": {},
     "output_type": "execute_result"
    },
    {
     "data": {
      "image/png": "[encoded data removed]",
      "text/plain": [
       "<Figure size 432x288 with 1 Axes>"
      ]
     },
     "metadata": {
      "needs_background": "light"
     },
     "output_type": "display_data"
    }
   ],
   "source": [
    "sns.countplot(x='Survived',hue='Pclass',data=db,color='red')"
   ]
  },
  {
   "cell_type": "code",
   "execution_count": 703,
   "id": "f8a61646",
   "metadata": {},
   "outputs": [
    {
     "data": {
      "text/plain": [
       "<AxesSubplot:xlabel='Survived', ylabel='count'>"
      ]
     },
     "execution_count": 703,
     "metadata": {},
     "output_type": "execute_result"
    },
    {
     "data": {
      "image/png": "[encoded data removed]",
      "text/plain": [
       "<Figure size 432x288 with 1 Axes>"
      ]
     },
     "metadata": {
      "needs_background": "light"
     },
     "output_type": "display_data"
    }
   ],
   "source": [
    "sns.countplot(x='Survived',hue='Pclass',data=db,palette='BuGn_r')"
   ]
  },
  {
   "cell_type": "code",
   "execution_count": 704,
   "id": "f208aa31",
   "metadata": {},
   "outputs": [
    {
     "name": "stderr",
     "output_type": "stream",
     "text": [
      "c:\\python 3.8\\lib\\site-packages\\seaborn\\distributions.py:2619: FutureWarning: `distplot` is a deprecated function and will be removed in a future version. Please adapt your code to use either `displot` (a figure-level function with similar flexibility) or `histplot` (an axes-level function for histograms).\n",
      "  warnings.warn(msg, FutureWarning)\n"
     ]
    },
    {
     "data": {
      "text/plain": [
       "<AxesSubplot:xlabel='Age', ylabel='Density'>"
      ]
     },
     "execution_count": 704,
     "metadata": {},
     "output_type": "execute_result"
    },
    {
     "data": {
      "image/png": "[encoded data removed]",
      "text/plain": [
       "<Figure size 432x288 with 1 Axes>"
      ]
     },
     "metadata": {
      "needs_background": "light"
     },
     "output_type": "display_data"
    }
   ],
   "source": [
    "sns.distplot(db['Age'].dropna(),color=\"red\")"
   ]
  },
  {
   "cell_type": "code",
   "execution_count": 705,
   "id": "119bb867",
   "metadata": {},
   "outputs": [
    {
     "name": "stderr",
     "output_type": "stream",
     "text": [
      "c:\\python 3.8\\lib\\site-packages\\seaborn\\distributions.py:2619: FutureWarning: `distplot` is a deprecated function and will be removed in a future version. Please adapt your code to use either `displot` (a figure-level function with similar flexibility) or `histplot` (an axes-level function for histograms).\n",
      "  warnings.warn(msg, FutureWarning)\n"
     ]
    },
    {
     "data": {
      "text/plain": [
       "<AxesSubplot:xlabel='Age'>"
      ]
     },
     "execution_count": 705,
     "metadata": {},
     "output_type": "execute_result"
    },
    {
     "data": {
      "image/png": "[encoded data removed]",
      "text/plain": [
       "<Figure size 432x288 with 1 Axes>"
      ]
     },
     "metadata": {
      "needs_background": "light"
     },
     "output_type": "display_data"
    }
   ],
   "source": [
    "sns.distplot(db['Age'].dropna(),kde=False)"
   ]
  },
  {
   "cell_type": "code",
   "execution_count": 706,
   "id": "1b862726",
   "metadata": {},
   "outputs": [
    {
     "data": {
      "text/plain": [
       "<AxesSubplot:>"
      ]
     },
     "execution_count": 706,
     "metadata": {},
     "output_type": "execute_result"
    },
    {
     "data": {
      "image/png": "[encoded data removed]",
      "text/plain": [
       "<Figure size 432x288 with 2 Axes>"
      ]
     },
     "metadata": {
      "needs_background": "light"
     },
     "output_type": "display_data"
    }
   ],
   "source": [
    "sns.heatmap(db.isnull(),yticklabels=False)"
   ]
  },
  {
   "cell_type": "code",
   "execution_count": 707,
   "id": "a8b9675e",
   "metadata": {},
   "outputs": [
    {
     "data": {
      "text/plain": [
       "<AxesSubplot:>"
      ]
     },
     "execution_count": 707,
     "metadata": {},
     "output_type": "execute_result"
    },
    {
     "data": {
      "image/png": "[encoded data removed]",
      "text/plain": [
       "<Figure size 432x288 with 2 Axes>"
      ]
     },
     "metadata": {
      "needs_background": "light"
     },
     "output_type": "display_data"
    }
   ],
   "source": [
    "sns.heatmap(db.isnull(),yticklabels=False,cmap='BrBG')"
   ]
  },
  {
   "cell_type": "code",
   "execution_count": 708,
   "id": "0d76fc34",
   "metadata": {},
   "outputs": [
    {
     "data": {
      "text/plain": [
       "<AxesSubplot:>"
      ]
     },
     "execution_count": 708,
     "metadata": {},
     "output_type": "execute_result"
    },
    {
     "data": {
      "image/png": "[encoded data removed]",
      "text/plain": [
       "<Figure size 432x288 with 1 Axes>"
      ]
     },
     "metadata": {
      "needs_background": "light"
     },
     "output_type": "display_data"
    }
   ],
   "source": [
    "db['Age'].hist(color=\"red\",alpha=0.5)"
   ]
  },
  {
   "cell_type": "code",
   "execution_count": 709,
   "id": "a9ecb2d6",
   "metadata": {},
   "outputs": [
    {
     "data": {
      "text/plain": [
       "<AxesSubplot:>"
      ]
     },
     "execution_count": 709,
     "metadata": {},
     "output_type": "execute_result"
    },
    {
     "data": {
      "image/png": "[encoded data removed]",
      "text/plain": [
       "<Figure size 432x288 with 1 Axes>"
      ]
     },
     "metadata": {
      "needs_background": "light"
     },
     "output_type": "display_data"
    }
   ],
   "source": [
    "db['Age'].hist(alpha=0.5,bins=20)"
   ]
  },
  {
   "cell_type": "code",
   "execution_count": 710,
   "id": "70c21b23",
   "metadata": {},
   "outputs": [
    {
     "data": {
      "text/plain": [
       "<seaborn.axisgrid.PairGrid at 0x2806da00>"
      ]
     },
     "execution_count": 710,
     "metadata": {},
     "output_type": "execute_result"
    },
    {
     "data": {
      "image/png": "[encoded data removed]",
      "text/plain": [
       "<Figure size 720x720 with 20 Axes>"
      ]
     },
     "metadata": {
      "needs_background": "light"
     },
     "output_type": "display_data"
    }
   ],
   "source": [
    "sns.pairplot(db)"
   ]
  },
  {
   "cell_type": "code",
   "execution_count": 711,
   "id": "4b25ef8a",
   "metadata": {},
   "outputs": [
    {
     "data": {
      "text/plain": [
       "<seaborn.axisgrid.PairGrid at 0x281aa2e0>"
      ]
     },
     "execution_count": 711,
     "metadata": {},
     "output_type": "execute_result"
    },
    {
     "data": {
      "image/png": "[encoded data removed]",
      "text/plain": [
       "<Figure size 582.375x540 with 12 Axes>"
      ]
     },
     "metadata": {
      "needs_background": "light"
     },
     "output_type": "display_data"
    }
   ],
   "source": [
    "sns.pairplot(db,hue=\"Sex\")"
   ]
  },
  {
   "cell_type": "code",
   "execution_count": 712,
   "id": "69dfaac5",
   "metadata": {},
   "outputs": [
    {
     "data": {
      "text/plain": [
       "<seaborn.axisgrid.PairGrid at 0x28c73e80>"
      ]
     },
     "execution_count": 712,
     "metadata": {},
     "output_type": "execute_result"
    },
    {
     "data": {
      "image/png": "[encoded data removed]",
      "text/plain": [
       "<Figure size 582.375x540 with 12 Axes>"
      ]
     },
     "metadata": {
      "needs_background": "light"
     },
     "output_type": "display_data"
    }
   ],
   "source": [
    "sns.pairplot(db,hue=\"Pclass\",diag_kind=\"hist\")"
   ]
  },
  {
   "cell_type": "code",
   "execution_count": 713,
   "id": "0e7a4a51",
   "metadata": {},
   "outputs": [
    {
     "data": {
      "text/plain": [
       "<seaborn.axisgrid.PairGrid at 0x291fbe68>"
      ]
     },
     "execution_count": 713,
     "metadata": {},
     "output_type": "execute_result"
    },
    {
     "data": {
      "image/png": "[encoded data removed]",
      "text/plain": [
       "<Figure size 582.375x540 with 12 Axes>"
      ]
     },
     "metadata": {
      "needs_background": "light"
     },
     "output_type": "display_data"
    }
   ],
   "source": [
    "sns.pairplot(db,hue=\"Sex\",diag_kind=\"kde\")"
   ]
  },
  {
   "cell_type": "code",
   "execution_count": 714,
   "id": "0e05cd90",
   "metadata": {},
   "outputs": [
    {
     "data": {
      "text/plain": [
       "<AxesSubplot:xlabel='Sex', ylabel='Age'>"
      ]
     },
     "execution_count": 714,
     "metadata": {},
     "output_type": "execute_result"
    },
    {
     "data": {
      "image/png": "[encoded data removed]",
      "text/plain": [
       "<Figure size 432x288 with 1 Axes>"
      ]
     },
     "metadata": {
      "needs_background": "light"
     },
     "output_type": "display_data"
    }
   ],
   "source": [
    "sns.boxplot(x=\"Sex\",y=\"Age\",data=db)"
   ]
  },
  {
   "cell_type": "code",
   "execution_count": 715,
   "id": "97b356fa",
   "metadata": {},
   "outputs": [
    {
     "data": {
      "text/plain": [
       "0      Q\n",
       "1      S\n",
       "2      Q\n",
       "3      S\n",
       "4      S\n",
       "      ..\n",
       "413    S\n",
       "414    C\n",
       "415    S\n",
       "416    S\n",
       "417    C\n",
       "Name: Embarked, Length: 418, dtype: object"
      ]
     },
     "execution_count": 715,
     "metadata": {},
     "output_type": "execute_result"
    }
   ],
   "source": [
    "db.Embarked"
   ]
  },
  {
   "cell_type": "code",
   "execution_count": 716,
   "id": "9e2a6281",
   "metadata": {},
   "outputs": [],
   "source": [
    "# FOR CONVERTING STRINGS TO INTEGERS USING LABEL ENCODING:"
   ]
  },
  {
   "cell_type": "code",
   "execution_count": 114,
   "id": "7af21ed5",
   "metadata": {},
   "outputs": [],
   "source": [
    " from sklearn.preprocessing import LabelEncoder\n"
   ]
  },
  {
   "cell_type": "code",
   "execution_count": 718,
   "id": "fffc3b80",
   "metadata": {},
   "outputs": [],
   "source": [
    " le=LabelEncoder()"
   ]
  },
  {
   "cell_type": "code",
   "execution_count": 719,
   "id": "049a4dca",
   "metadata": {},
   "outputs": [],
   "source": [
    "db.Embarked=le.fit_transform(db.Embarked)"
   ]
  },
  {
   "cell_type": "code",
   "execution_count": 720,
   "id": "d4a23676",
   "metadata": {},
   "outputs": [
    {
     "data": {
      "text/plain": [
       "0      1\n",
       "1      2\n",
       "2      1\n",
       "3      2\n",
       "4      2\n",
       "      ..\n",
       "413    2\n",
       "414    0\n",
       "415    2\n",
       "416    2\n",
       "417    0\n",
       "Name: Embarked, Length: 418, dtype: int32"
      ]
     },
     "execution_count": 720,
     "metadata": {},
     "output_type": "execute_result"
    }
   ],
   "source": [
    "db.Embarked"
   ]
  },
  {
   "cell_type": "code",
   "execution_count": 721,
   "id": "6695c80c",
   "metadata": {},
   "outputs": [],
   "source": [
    "# FOR CONVERTING STRINGS TO INTEGERS USING ONE HOT ENCODING:\n",
    "# db=pd.get_dummies(db[\"Embarked\"])"
   ]
  },
  {
   "cell_type": "markdown",
   "id": "33d4e717",
   "metadata": {},
   "source": [
    "# IMPLEMENT USING LOGISTIC REGRESSION"
   ]
  },
  {
   "cell_type": "code",
   "execution_count": 116,
   "id": "5ed139e8",
   "metadata": {},
   "outputs": [],
   "source": [
    "from sklearn.linear_model import LogisticRegression\n"
   ]
  },
  {
   "cell_type": "code",
   "execution_count": 117,
   "id": "140c4a41",
   "metadata": {},
   "outputs": [],
   "source": [
    "model_LR=LogisticRegression()"
   ]
  },
  {
   "cell_type": "code",
   "execution_count": 118,
   "id": "97de58ec",
   "metadata": {},
   "outputs": [
    {
     "data": {
      "text/plain": [
       "LogisticRegression()"
      ]
     },
     "execution_count": 118,
     "metadata": {},
     "output_type": "execute_result"
    }
   ],
   "source": [
    "model_LR.fit(x_train,y_train)"
   ]
  },
  {
   "cell_type": "code",
   "execution_count": 119,
   "id": "641b9f6a",
   "metadata": {},
   "outputs": [],
   "source": [
    "y_pred=model_LR.predict(x_test)"
   ]
  },
  {
   "cell_type": "code",
   "execution_count": 120,
   "id": "e70d092b",
   "metadata": {},
   "outputs": [],
   "source": [
    "from sklearn.metrics import accuracy_score         #For checking the accuracy."
   ]
  },
  {
   "cell_type": "code",
   "execution_count": 121,
   "id": "28b9b104",
   "metadata": {},
   "outputs": [
    {
     "data": {
      "text/plain": [
       "1.0"
      ]
     },
     "execution_count": 121,
     "metadata": {},
     "output_type": "execute_result"
    }
   ],
   "source": [
    "acc1=accuracy_score(y_test,y_pred)\n",
    "acc1"
   ]
  },
  {
   "cell_type": "code",
   "execution_count": 122,
   "id": "90de8748",
   "metadata": {},
   "outputs": [
    {
     "data": {
      "text/plain": [
       "array([1], dtype=int64)"
      ]
     },
     "execution_count": 122,
     "metadata": {},
     "output_type": "execute_result"
    }
   ],
   "source": [
    "model_LR.predict([[2,1,58]])"
   ]
  },
  {
   "cell_type": "code",
   "execution_count": 123,
   "id": "2094c429",
   "metadata": {},
   "outputs": [
    {
     "data": {
      "text/plain": [
       "array([0], dtype=int64)"
      ]
     },
     "execution_count": 123,
     "metadata": {},
     "output_type": "execute_result"
    }
   ],
   "source": [
    "model_LR.predict([[1,0,40]])"
   ]
  },
  {
   "cell_type": "markdown",
   "id": "66e413f4",
   "metadata": {},
   "source": [
    "# USING NAIVE_BAYES ALGORITHM"
   ]
  },
  {
   "cell_type": "code",
   "execution_count": 127,
   "id": "671b335a",
   "metadata": {},
   "outputs": [],
   "source": [
    "from sklearn.naive_bayes import GaussianNB"
   ]
  },
  {
   "cell_type": "code",
   "execution_count": 128,
   "id": "95bac896",
   "metadata": {},
   "outputs": [],
   "source": [
    "model_NB=GaussianNB()"
   ]
  },
  {
   "cell_type": "code",
   "execution_count": 129,
   "id": "ee960936",
   "metadata": {},
   "outputs": [
    {
     "data": {
      "text/plain": [
       "GaussianNB()"
      ]
     },
     "execution_count": 129,
     "metadata": {},
     "output_type": "execute_result"
    }
   ],
   "source": [
    "model_NB.fit(x_train,y_train)"
   ]
  },
  {
   "cell_type": "code",
   "execution_count": 130,
   "id": "ce074cd9",
   "metadata": {},
   "outputs": [],
   "source": [
    "y_pred=model_NB.predict(x_test)\n",
    "acc2=accuracy_score(y_test,y_pred)"
   ]
  },
  {
   "cell_type": "code",
   "execution_count": 131,
   "id": "0186df92",
   "metadata": {},
   "outputs": [
    {
     "data": {
      "text/plain": [
       "1.0"
      ]
     },
     "execution_count": 131,
     "metadata": {},
     "output_type": "execute_result"
    }
   ],
   "source": [
    "acc2"
   ]
  },
  {
   "cell_type": "code",
   "execution_count": 132,
   "id": "1fcc6fac",
   "metadata": {},
   "outputs": [
    {
     "data": {
      "text/plain": [
       "array([1], dtype=int64)"
      ]
     },
     "execution_count": 132,
     "metadata": {},
     "output_type": "execute_result"
    }
   ],
   "source": [
    "model_NB.predict([[3,1,80]])"
   ]
  },
  {
   "cell_type": "code",
   "execution_count": 133,
   "id": "c02ead49",
   "metadata": {},
   "outputs": [
    {
     "data": {
      "text/plain": [
       "array([0], dtype=int64)"
      ]
     },
     "execution_count": 133,
     "metadata": {},
     "output_type": "execute_result"
    }
   ],
   "source": [
    "model_NB.predict([[3,0,27]])"
   ]
  },
  {
   "cell_type": "markdown",
   "id": "8e52af63",
   "metadata": {},
   "source": [
    "# USING SVM ALGORITHM"
   ]
  },
  {
   "cell_type": "code",
   "execution_count": 134,
   "id": "3e7dc931",
   "metadata": {},
   "outputs": [],
   "source": [
    "from sklearn.svm import SVC"
   ]
  },
  {
   "cell_type": "code",
   "execution_count": 135,
   "id": "0cb9b9d1",
   "metadata": {},
   "outputs": [],
   "source": [
    "model_svm=SVC()"
   ]
  },
  {
   "cell_type": "code",
   "execution_count": 136,
   "id": "39421b54",
   "metadata": {},
   "outputs": [
    {
     "data": {
      "text/plain": [
       "SVC()"
      ]
     },
     "execution_count": 136,
     "metadata": {},
     "output_type": "execute_result"
    }
   ],
   "source": [
    "model_svm.fit(x_train,y_train)"
   ]
  },
  {
   "cell_type": "code",
   "execution_count": 137,
   "id": "a00515e7",
   "metadata": {},
   "outputs": [],
   "source": [
    "y_pred=model_svm.predict(x_test)"
   ]
  },
  {
   "cell_type": "code",
   "execution_count": 138,
   "id": "8a5fd64d",
   "metadata": {},
   "outputs": [],
   "source": [
    "acc3= accuracy_score(y_test,y_pred)"
   ]
  },
  {
   "cell_type": "code",
   "execution_count": 139,
   "id": "40eb0bc6",
   "metadata": {},
   "outputs": [
    {
     "data": {
      "text/plain": [
       "0.5595238095238095"
      ]
     },
     "execution_count": 139,
     "metadata": {},
     "output_type": "execute_result"
    }
   ],
   "source": [
    "acc3"
   ]
  },
  {
   "cell_type": "code",
   "execution_count": 140,
   "id": "ee871b31",
   "metadata": {},
   "outputs": [
    {
     "data": {
      "text/plain": [
       "array([0], dtype=int64)"
      ]
     },
     "execution_count": 140,
     "metadata": {},
     "output_type": "execute_result"
    }
   ],
   "source": [
    "model_svm.predict([[1,0,40]])"
   ]
  },
  {
   "cell_type": "code",
   "execution_count": 141,
   "id": "03ecd268",
   "metadata": {},
   "outputs": [
    {
     "data": {
      "text/plain": [
       "array([1], dtype=int64)"
      ]
     },
     "execution_count": 141,
     "metadata": {},
     "output_type": "execute_result"
    }
   ],
   "source": [
    "model_svm.predict([[2,7,69]])"
   ]
  },
  {
   "cell_type": "code",
   "execution_count": 142,
   "id": "56620dd1",
   "metadata": {},
   "outputs": [
    {
     "data": {
      "text/plain": [
       "array([0], dtype=int64)"
      ]
     },
     "execution_count": 142,
     "metadata": {},
     "output_type": "execute_result"
    }
   ],
   "source": [
    "model_svm.predict([[3,1,22]])"
   ]
  },
  {
   "cell_type": "code",
   "execution_count": 143,
   "id": "2091b30f",
   "metadata": {},
   "outputs": [],
   "source": [
    "# CROSS VALIDATION TECHNIQUES AND HYPER PARAMETER TUNING "
   ]
  },
  {
   "cell_type": "code",
   "execution_count": null,
   "id": "66df5c14",
   "metadata": {},
   "outputs": [],
   "source": [
    "# CROSS VALIDATION SCORE"
   ]
  },
  {
   "cell_type": "code",
   "execution_count": null,
   "id": "d26d39ad",
   "metadata": {},
   "outputs": [],
   "source": [
    "from sklearn.model_selection import cross_val_score"
   ]
  },
  {
   "cell_type": "code",
   "execution_count": 144,
   "id": "83d3eb35",
   "metadata": {},
   "outputs": [
    {
     "data": {
      "text/plain": [
       "array([1., 1., 1., 1., 1.])"
      ]
     },
     "execution_count": 144,
     "metadata": {},
     "output_type": "execute_result"
    }
   ],
   "source": [
    "cross_val_score(SVC(C=10,gamma='auto',kernel='linear'),x,y,cv=5)"
   ]
  },
  {
   "cell_type": "code",
   "execution_count": 145,
   "id": "6f1ccc30",
   "metadata": {},
   "outputs": [],
   "source": [
    "# GRID SEARCH CV"
   ]
  },
  {
   "cell_type": "code",
   "execution_count": null,
   "id": "33576a9a",
   "metadata": {},
   "outputs": [],
   "source": [
    "from sklearn.model_selection import GridSearchCV"
   ]
  },
  {
   "cell_type": "code",
   "execution_count": 146,
   "id": "bebb8053",
   "metadata": {},
   "outputs": [
    {
     "data": {
      "text/plain": [
       "{'mean_fit_time': array([0.01392037, 0.00390601, 0.00780731, 0.0022853 , 0.00981343,\n",
       "        0.        , 0.00390524, 0.        , 0.01097924, 0.        ,\n",
       "        0.01172048, 0.00790584, 0.01401013, 0.00399822, 0.02199864,\n",
       "        0.00400078, 0.01599818, 0.00200111, 0.02000272, 0.00400048,\n",
       "        0.01199859, 0.00200057, 0.01000154, 0.00200039, 0.00980937,\n",
       "        0.00781071, 0.0117175 , 0.        ]),\n",
       " 'std_fit_time': array([3.43104157e-03, 6.76541051e-03, 7.80731532e-03, 3.33304274e-03,\n",
       "        6.46493956e-03, 0.00000000e+00, 6.76406842e-03, 0.00000000e+00,\n",
       "        3.18739004e-03, 0.00000000e+00, 6.76682389e-03, 5.52506033e-03,\n",
       "        3.44840433e-03, 3.99822036e-03, 6.62356869e-03, 4.00078300e-03,\n",
       "        3.00811598e-06, 3.46601854e-03, 3.99732630e-03, 4.00048505e-03,\n",
       "        4.00084317e-03, 3.46508940e-03, 3.46336950e-03, 3.46477968e-03,\n",
       "        6.46319257e-03, 7.81071186e-03, 6.76510131e-03, 0.00000000e+00]),\n",
       " 'mean_score_time': array([0.00199932, 0.        , 0.00390816, 0.        , 0.00590563,\n",
       "        0.        , 0.00390542, 0.00781143, 0.00400048, 0.00390571,\n",
       "        0.00390536, 0.00118965, 0.00599337, 0.0019986 , 0.0080002 ,\n",
       "        0.00400031, 0.00800443, 0.00400013, 0.00399709, 0.        ,\n",
       "        0.00399959, 0.00199968, 0.00200003, 0.00200003, 0.00390577,\n",
       "        0.        , 0.00781035, 0.        ]),\n",
       " 'std_score_time': array([3.46292140e-03, 0.00000000e+00, 6.76912709e-03, 0.00000000e+00,\n",
       "        6.49143791e-03, 0.00000000e+00, 6.76437813e-03, 7.81142713e-03,\n",
       "        4.00048499e-03, 6.76489432e-03, 6.76427489e-03, 2.06053269e-03,\n",
       "        3.46033320e-03, 3.46168254e-03, 5.65644448e-03, 4.00030673e-03,\n",
       "        8.26078231e-06, 4.00012796e-03, 3.99708765e-03, 0.00000000e+00,\n",
       "        3.99959093e-03, 3.46354082e-03, 3.46416025e-03, 3.46416025e-03,\n",
       "        6.76499756e-03, 0.00000000e+00, 7.81035423e-03, 0.00000000e+00]),\n",
       " 'param_C': masked_array(data=[1, 1, 1, 1, 4, 4, 4, 4, 5, 5, 5, 5, 6, 6, 6, 6, 7, 7,\n",
       "                    7, 7, 8, 8, 8, 8, 10, 10, 10, 10],\n",
       "              mask=[False, False, False, False, False, False, False, False,\n",
       "                    False, False, False, False, False, False, False, False,\n",
       "                    False, False, False, False, False, False, False, False,\n",
       "                    False, False, False, False],\n",
       "        fill_value='?',\n",
       "             dtype=object),\n",
       " 'param_gamma': masked_array(data=['auto', 'auto', 'scale', 'scale', 'auto', 'auto',\n",
       "                    'scale', 'scale', 'auto', 'auto', 'scale', 'scale',\n",
       "                    'auto', 'auto', 'scale', 'scale', 'auto', 'auto',\n",
       "                    'scale', 'scale', 'auto', 'auto', 'scale', 'scale',\n",
       "                    'auto', 'auto', 'scale', 'scale'],\n",
       "              mask=[False, False, False, False, False, False, False, False,\n",
       "                    False, False, False, False, False, False, False, False,\n",
       "                    False, False, False, False, False, False, False, False,\n",
       "                    False, False, False, False],\n",
       "        fill_value='?',\n",
       "             dtype=object),\n",
       " 'param_kernel': masked_array(data=['rbf', 'linear', 'rbf', 'linear', 'rbf', 'linear',\n",
       "                    'rbf', 'linear', 'rbf', 'linear', 'rbf', 'linear',\n",
       "                    'rbf', 'linear', 'rbf', 'linear', 'rbf', 'linear',\n",
       "                    'rbf', 'linear', 'rbf', 'linear', 'rbf', 'linear',\n",
       "                    'rbf', 'linear', 'rbf', 'linear'],\n",
       "              mask=[False, False, False, False, False, False, False, False,\n",
       "                    False, False, False, False, False, False, False, False,\n",
       "                    False, False, False, False, False, False, False, False,\n",
       "                    False, False, False, False],\n",
       "        fill_value='?',\n",
       "             dtype=object),\n",
       " 'params': [{'C': 1, 'gamma': 'auto', 'kernel': 'rbf'},\n",
       "  {'C': 1, 'gamma': 'auto', 'kernel': 'linear'},\n",
       "  {'C': 1, 'gamma': 'scale', 'kernel': 'rbf'},\n",
       "  {'C': 1, 'gamma': 'scale', 'kernel': 'linear'},\n",
       "  {'C': 4, 'gamma': 'auto', 'kernel': 'rbf'},\n",
       "  {'C': 4, 'gamma': 'auto', 'kernel': 'linear'},\n",
       "  {'C': 4, 'gamma': 'scale', 'kernel': 'rbf'},\n",
       "  {'C': 4, 'gamma': 'scale', 'kernel': 'linear'},\n",
       "  {'C': 5, 'gamma': 'auto', 'kernel': 'rbf'},\n",
       "  {'C': 5, 'gamma': 'auto', 'kernel': 'linear'},\n",
       "  {'C': 5, 'gamma': 'scale', 'kernel': 'rbf'},\n",
       "  {'C': 5, 'gamma': 'scale', 'kernel': 'linear'},\n",
       "  {'C': 6, 'gamma': 'auto', 'kernel': 'rbf'},\n",
       "  {'C': 6, 'gamma': 'auto', 'kernel': 'linear'},\n",
       "  {'C': 6, 'gamma': 'scale', 'kernel': 'rbf'},\n",
       "  {'C': 6, 'gamma': 'scale', 'kernel': 'linear'},\n",
       "  {'C': 7, 'gamma': 'auto', 'kernel': 'rbf'},\n",
       "  {'C': 7, 'gamma': 'auto', 'kernel': 'linear'},\n",
       "  {'C': 7, 'gamma': 'scale', 'kernel': 'rbf'},\n",
       "  {'C': 7, 'gamma': 'scale', 'kernel': 'linear'},\n",
       "  {'C': 8, 'gamma': 'auto', 'kernel': 'rbf'},\n",
       "  {'C': 8, 'gamma': 'auto', 'kernel': 'linear'},\n",
       "  {'C': 8, 'gamma': 'scale', 'kernel': 'rbf'},\n",
       "  {'C': 8, 'gamma': 'scale', 'kernel': 'linear'},\n",
       "  {'C': 10, 'gamma': 'auto', 'kernel': 'rbf'},\n",
       "  {'C': 10, 'gamma': 'auto', 'kernel': 'linear'},\n",
       "  {'C': 10, 'gamma': 'scale', 'kernel': 'rbf'},\n",
       "  {'C': 10, 'gamma': 'scale', 'kernel': 'linear'}],\n",
       " 'split0_test_score': array([0.94285714, 1.        , 0.63809524, 1.        , 0.98095238,\n",
       "        1.        , 0.85714286, 1.        , 0.98095238, 1.        ,\n",
       "        0.92380952, 1.        , 0.98095238, 1.        , 0.96190476,\n",
       "        1.        , 0.98095238, 1.        , 0.97142857, 1.        ,\n",
       "        0.98095238, 1.        , 0.98095238, 1.        , 0.98095238,\n",
       "        1.        , 1.        , 1.        ]),\n",
       " 'split1_test_score': array([0.93333333, 1.        , 0.63809524, 1.        , 0.98095238,\n",
       "        1.        , 0.66666667, 1.        , 0.98095238, 1.        ,\n",
       "        1.        , 1.        , 0.98095238, 1.        , 0.99047619,\n",
       "        1.        , 0.98095238, 1.        , 0.99047619, 1.        ,\n",
       "        0.98095238, 1.        , 0.99047619, 1.        , 0.98095238,\n",
       "        1.        , 0.99047619, 1.        ]),\n",
       " 'split2_test_score': array([0.95192308, 1.        , 0.63461538, 1.        , 0.98076923,\n",
       "        1.        , 0.80769231, 1.        , 0.98076923, 1.        ,\n",
       "        0.875     , 1.        , 0.98076923, 1.        , 0.92307692,\n",
       "        1.        , 0.98076923, 1.        , 0.93269231, 1.        ,\n",
       "        0.98076923, 1.        , 0.95192308, 1.        , 0.98076923,\n",
       "        1.        , 0.97115385, 1.        ]),\n",
       " 'split3_test_score': array([0.97115385, 1.        , 0.63461538, 1.        , 0.98076923,\n",
       "        1.        , 0.78846154, 1.        , 0.98076923, 1.        ,\n",
       "        0.88461538, 1.        , 0.98076923, 1.        , 0.93269231,\n",
       "        1.        , 0.98076923, 1.        , 0.94230769, 1.        ,\n",
       "        0.98076923, 1.        , 0.97115385, 1.        , 0.98076923,\n",
       "        1.        , 1.        , 1.        ]),\n",
       " 'mean_test_score': array([0.94981685, 1.        , 0.63635531, 1.        , 0.98086081,\n",
       "        1.        , 0.77999084, 1.        , 0.98086081, 1.        ,\n",
       "        0.92085623, 1.        , 0.98086081, 1.        , 0.95203755,\n",
       "        1.        , 0.98086081, 1.        , 0.95922619, 1.        ,\n",
       "        0.98086081, 1.        , 0.97362637, 1.        , 0.98086081,\n",
       "        1.        , 0.99040751, 1.        ]),\n",
       " 'std_test_score': array([1.39628744e-02, 0.00000000e+00, 1.73992674e-03, 0.00000000e+00,\n",
       "        9.15750916e-05, 0.00000000e+00, 7.00605560e-02, 0.00000000e+00,\n",
       "        9.15750916e-05, 0.00000000e+00, 4.92154726e-02, 0.00000000e+00,\n",
       "        9.15750916e-05, 0.00000000e+00, 2.64000344e-02, 0.00000000e+00,\n",
       "        9.15750916e-05, 0.00000000e+00, 2.29986039e-02, 0.00000000e+00,\n",
       "        9.15750916e-05, 0.00000000e+00, 1.42717658e-02, 0.00000000e+00,\n",
       "        9.15750916e-05, 0.00000000e+00, 1.17764598e-02, 0.00000000e+00]),\n",
       " 'rank_test_score': array([25,  1, 28,  1, 16,  1, 27,  1, 16,  1, 26,  1, 16,  1, 24,  1, 16,\n",
       "         1, 23,  1, 16,  1, 22,  1, 16,  1, 15,  1], dtype=int32),\n",
       " 'split0_train_score': array([0.99680511, 1.        , 0.63578275, 1.        , 1.        ,\n",
       "        1.        , 0.87220447, 1.        , 1.        , 1.        ,\n",
       "        0.93610224, 1.        , 1.        , 1.        , 0.95527157,\n",
       "        1.        , 1.        , 1.        , 0.97124601, 1.        ,\n",
       "        1.        , 1.        , 0.97763578, 1.        , 1.        ,\n",
       "        1.        , 0.99680511, 1.        ]),\n",
       " 'split1_train_score': array([0.99680511, 1.        , 0.63578275, 1.        , 1.        ,\n",
       "        1.        , 0.66773163, 1.        , 1.        , 1.        ,\n",
       "        0.96485623, 1.        , 1.        , 1.        , 1.        ,\n",
       "        1.        , 1.        , 1.        , 0.99361022, 1.        ,\n",
       "        1.        , 1.        , 0.99361022, 1.        , 1.        ,\n",
       "        1.        , 0.99680511, 1.        ]),\n",
       " 'split2_train_score': array([0.99681529, 1.        , 0.63694268, 1.        , 1.        ,\n",
       "        1.        , 0.82484076, 1.        , 1.        , 1.        ,\n",
       "        0.92993631, 1.        , 1.        , 1.        , 0.95859873,\n",
       "        1.        , 1.        , 1.        , 0.96496815, 1.        ,\n",
       "        1.        , 1.        , 0.98407643, 1.        , 1.        ,\n",
       "        1.        , 0.99681529, 1.        ]),\n",
       " 'split3_train_score': array([0.99681529, 1.        , 0.63694268, 1.        , 1.        ,\n",
       "        1.        , 0.82484076, 1.        , 1.        , 1.        ,\n",
       "        0.91719745, 1.        , 1.        , 1.        , 0.9522293 ,\n",
       "        1.        , 1.        , 1.        , 0.95859873, 1.        ,\n",
       "        1.        , 1.        , 0.98726115, 1.        , 1.        ,\n",
       "        1.        , 0.99681529, 1.        ]),\n",
       " 'mean_train_score': array([0.9968102 , 1.        , 0.63636271, 1.        , 1.        ,\n",
       "        1.        , 0.79740441, 1.        , 1.        , 1.        ,\n",
       "        0.93702306, 1.        , 1.        , 1.        , 0.9665249 ,\n",
       "        1.        , 1.        , 1.        , 0.97210578, 1.        ,\n",
       "        1.        , 1.        , 0.9856459 , 1.        , 1.        ,\n",
       "        1.        , 0.9968102 , 1.        ]),\n",
       " 'std_train_score': array([5.08740156e-06, 0.00000000e+00, 5.79963778e-04, 0.00000000e+00,\n",
       "        0.00000000e+00, 0.00000000e+00, 7.73233252e-02, 0.00000000e+00,\n",
       "        0.00000000e+00, 0.00000000e+00, 1.74557303e-02, 0.00000000e+00,\n",
       "        0.00000000e+00, 0.00000000e+00, 1.94576996e-02, 0.00000000e+00,\n",
       "        0.00000000e+00, 0.00000000e+00, 1.31962735e-02, 0.00000000e+00,\n",
       "        0.00000000e+00, 0.00000000e+00, 5.75900766e-03, 0.00000000e+00,\n",
       "        0.00000000e+00, 0.00000000e+00, 5.08740156e-06, 0.00000000e+00])}"
      ]
     },
     "execution_count": 146,
     "metadata": {},
     "output_type": "execute_result"
    }
   ],
   "source": [
    "gs = GridSearchCV(SVC(),\n",
    "                 {\n",
    "                     'C':[1,4,5,6,7,8,10],\n",
    "                     'kernel':['rbf','linear'],\n",
    "                     'gamma':['auto','scale']\n",
    "                      \n",
    "                 },cv=4,return_train_score=True)\n",
    "\n",
    "gs.fit(x,y)\n",
    "gs.cv_results_"
   ]
  },
  {
   "cell_type": "code",
   "execution_count": 147,
   "id": "ca3b16ad",
   "metadata": {},
   "outputs": [
    {
     "data": {
      "text/html": [
       "<div>\n",
       "<style scoped>\n",
       "    .dataframe tbody tr th:only-of-type {\n",
       "        vertical-align: middle;\n",
       "    }\n",
       "\n",
       "    .dataframe tbody tr th {\n",
       "        vertical-align: top;\n",
       "    }\n",
       "\n",
       "    .dataframe thead th {\n",
       "        text-align: right;\n",
       "    }\n",
       "</style>\n",
       "<table border=\"1\" class=\"dataframe\">\n",
       "  <thead>\n",
       "    <tr style=\"text-align: right;\">\n",
       "      <th></th>\n",
       "      <th>mean_fit_time</th>\n",
       "      <th>std_fit_time</th>\n",
       "      <th>mean_score_time</th>\n",
       "      <th>std_score_time</th>\n",
       "      <th>param_C</th>\n",
       "      <th>param_gamma</th>\n",
       "      <th>param_kernel</th>\n",
       "      <th>params</th>\n",
       "      <th>split0_test_score</th>\n",
       "      <th>split1_test_score</th>\n",
       "      <th>...</th>\n",
       "      <th>split3_test_score</th>\n",
       "      <th>mean_test_score</th>\n",
       "      <th>std_test_score</th>\n",
       "      <th>rank_test_score</th>\n",
       "      <th>split0_train_score</th>\n",
       "      <th>split1_train_score</th>\n",
       "      <th>split2_train_score</th>\n",
       "      <th>split3_train_score</th>\n",
       "      <th>mean_train_score</th>\n",
       "      <th>std_train_score</th>\n",
       "    </tr>\n",
       "  </thead>\n",
       "  <tbody>\n",
       "    <tr>\n",
       "      <th>0</th>\n",
       "      <td>0.013920</td>\n",
       "      <td>0.003431</td>\n",
       "      <td>0.001999</td>\n",
       "      <td>0.003463</td>\n",
       "      <td>1</td>\n",
       "      <td>auto</td>\n",
       "      <td>rbf</td>\n",
       "      <td>{'C': 1, 'gamma': 'auto', 'kernel': 'rbf'}</td>\n",
       "      <td>0.942857</td>\n",
       "      <td>0.933333</td>\n",
       "      <td>...</td>\n",
       "      <td>0.971154</td>\n",
       "      <td>0.949817</td>\n",
       "      <td>0.013963</td>\n",
       "      <td>25</td>\n",
       "      <td>0.996805</td>\n",
       "      <td>0.996805</td>\n",
       "      <td>0.996815</td>\n",
       "      <td>0.996815</td>\n",
       "      <td>0.996810</td>\n",
       "      <td>0.000005</td>\n",
       "    </tr>\n",
       "    <tr>\n",
       "      <th>1</th>\n",
       "      <td>0.003906</td>\n",
       "      <td>0.006765</td>\n",
       "      <td>0.000000</td>\n",
       "      <td>0.000000</td>\n",
       "      <td>1</td>\n",
       "      <td>auto</td>\n",
       "      <td>linear</td>\n",
       "      <td>{'C': 1, 'gamma': 'auto', 'kernel': 'linear'}</td>\n",
       "      <td>1.000000</td>\n",
       "      <td>1.000000</td>\n",
       "      <td>...</td>\n",
       "      <td>1.000000</td>\n",
       "      <td>1.000000</td>\n",
       "      <td>0.000000</td>\n",
       "      <td>1</td>\n",
       "      <td>1.000000</td>\n",
       "      <td>1.000000</td>\n",
       "      <td>1.000000</td>\n",
       "      <td>1.000000</td>\n",
       "      <td>1.000000</td>\n",
       "      <td>0.000000</td>\n",
       "    </tr>\n",
       "    <tr>\n",
       "      <th>2</th>\n",
       "      <td>0.007807</td>\n",
       "      <td>0.007807</td>\n",
       "      <td>0.003908</td>\n",
       "      <td>0.006769</td>\n",
       "      <td>1</td>\n",
       "      <td>scale</td>\n",
       "      <td>rbf</td>\n",
       "      <td>{'C': 1, 'gamma': 'scale', 'kernel': 'rbf'}</td>\n",
       "      <td>0.638095</td>\n",
       "      <td>0.638095</td>\n",
       "      <td>...</td>\n",
       "      <td>0.634615</td>\n",
       "      <td>0.636355</td>\n",
       "      <td>0.001740</td>\n",
       "      <td>28</td>\n",
       "      <td>0.635783</td>\n",
       "      <td>0.635783</td>\n",
       "      <td>0.636943</td>\n",
       "      <td>0.636943</td>\n",
       "      <td>0.636363</td>\n",
       "      <td>0.000580</td>\n",
       "    </tr>\n",
       "    <tr>\n",
       "      <th>3</th>\n",
       "      <td>0.002285</td>\n",
       "      <td>0.003333</td>\n",
       "      <td>0.000000</td>\n",
       "      <td>0.000000</td>\n",
       "      <td>1</td>\n",
       "      <td>scale</td>\n",
       "      <td>linear</td>\n",
       "      <td>{'C': 1, 'gamma': 'scale', 'kernel': 'linear'}</td>\n",
       "      <td>1.000000</td>\n",
       "      <td>1.000000</td>\n",
       "      <td>...</td>\n",
       "      <td>1.000000</td>\n",
       "      <td>1.000000</td>\n",
       "      <td>0.000000</td>\n",
       "      <td>1</td>\n",
       "      <td>1.000000</td>\n",
       "      <td>1.000000</td>\n",
       "      <td>1.000000</td>\n",
       "      <td>1.000000</td>\n",
       "      <td>1.000000</td>\n",
       "      <td>0.000000</td>\n",
       "    </tr>\n",
       "    <tr>\n",
       "      <th>4</th>\n",
       "      <td>0.009813</td>\n",
       "      <td>0.006465</td>\n",
       "      <td>0.005906</td>\n",
       "      <td>0.006491</td>\n",
       "      <td>4</td>\n",
       "      <td>auto</td>\n",
       "      <td>rbf</td>\n",
       "      <td>{'C': 4, 'gamma': 'auto', 'kernel': 'rbf'}</td>\n",
       "      <td>0.980952</td>\n",
       "      <td>0.980952</td>\n",
       "      <td>...</td>\n",
       "      <td>0.980769</td>\n",
       "      <td>0.980861</td>\n",
       "      <td>0.000092</td>\n",
       "      <td>16</td>\n",
       "      <td>1.000000</td>\n",
       "      <td>1.000000</td>\n",
       "      <td>1.000000</td>\n",
       "      <td>1.000000</td>\n",
       "      <td>1.000000</td>\n",
       "      <td>0.000000</td>\n",
       "    </tr>\n",
       "    <tr>\n",
       "      <th>5</th>\n",
       "      <td>0.000000</td>\n",
       "      <td>0.000000</td>\n",
       "      <td>0.000000</td>\n",
       "      <td>0.000000</td>\n",
       "      <td>4</td>\n",
       "      <td>auto</td>\n",
       "      <td>linear</td>\n",
       "      <td>{'C': 4, 'gamma': 'auto', 'kernel': 'linear'}</td>\n",
       "      <td>1.000000</td>\n",
       "      <td>1.000000</td>\n",
       "      <td>...</td>\n",
       "      <td>1.000000</td>\n",
       "      <td>1.000000</td>\n",
       "      <td>0.000000</td>\n",
       "      <td>1</td>\n",
       "      <td>1.000000</td>\n",
       "      <td>1.000000</td>\n",
       "      <td>1.000000</td>\n",
       "      <td>1.000000</td>\n",
       "      <td>1.000000</td>\n",
       "      <td>0.000000</td>\n",
       "    </tr>\n",
       "    <tr>\n",
       "      <th>6</th>\n",
       "      <td>0.003905</td>\n",
       "      <td>0.006764</td>\n",
       "      <td>0.003905</td>\n",
       "      <td>0.006764</td>\n",
       "      <td>4</td>\n",
       "      <td>scale</td>\n",
       "      <td>rbf</td>\n",
       "      <td>{'C': 4, 'gamma': 'scale', 'kernel': 'rbf'}</td>\n",
       "      <td>0.857143</td>\n",
       "      <td>0.666667</td>\n",
       "      <td>...</td>\n",
       "      <td>0.788462</td>\n",
       "      <td>0.779991</td>\n",
       "      <td>0.070061</td>\n",
       "      <td>27</td>\n",
       "      <td>0.872204</td>\n",
       "      <td>0.667732</td>\n",
       "      <td>0.824841</td>\n",
       "      <td>0.824841</td>\n",
       "      <td>0.797404</td>\n",
       "      <td>0.077323</td>\n",
       "    </tr>\n",
       "    <tr>\n",
       "      <th>7</th>\n",
       "      <td>0.000000</td>\n",
       "      <td>0.000000</td>\n",
       "      <td>0.007811</td>\n",
       "      <td>0.007811</td>\n",
       "      <td>4</td>\n",
       "      <td>scale</td>\n",
       "      <td>linear</td>\n",
       "      <td>{'C': 4, 'gamma': 'scale', 'kernel': 'linear'}</td>\n",
       "      <td>1.000000</td>\n",
       "      <td>1.000000</td>\n",
       "      <td>...</td>\n",
       "      <td>1.000000</td>\n",
       "      <td>1.000000</td>\n",
       "      <td>0.000000</td>\n",
       "      <td>1</td>\n",
       "      <td>1.000000</td>\n",
       "      <td>1.000000</td>\n",
       "      <td>1.000000</td>\n",
       "      <td>1.000000</td>\n",
       "      <td>1.000000</td>\n",
       "      <td>0.000000</td>\n",
       "    </tr>\n",
       "    <tr>\n",
       "      <th>8</th>\n",
       "      <td>0.010979</td>\n",
       "      <td>0.003187</td>\n",
       "      <td>0.004000</td>\n",
       "      <td>0.004000</td>\n",
       "      <td>5</td>\n",
       "      <td>auto</td>\n",
       "      <td>rbf</td>\n",
       "      <td>{'C': 5, 'gamma': 'auto', 'kernel': 'rbf'}</td>\n",
       "      <td>0.980952</td>\n",
       "      <td>0.980952</td>\n",
       "      <td>...</td>\n",
       "      <td>0.980769</td>\n",
       "      <td>0.980861</td>\n",
       "      <td>0.000092</td>\n",
       "      <td>16</td>\n",
       "      <td>1.000000</td>\n",
       "      <td>1.000000</td>\n",
       "      <td>1.000000</td>\n",
       "      <td>1.000000</td>\n",
       "      <td>1.000000</td>\n",
       "      <td>0.000000</td>\n",
       "    </tr>\n",
       "    <tr>\n",
       "      <th>9</th>\n",
       "      <td>0.000000</td>\n",
       "      <td>0.000000</td>\n",
       "      <td>0.003906</td>\n",
       "      <td>0.006765</td>\n",
       "      <td>5</td>\n",
       "      <td>auto</td>\n",
       "      <td>linear</td>\n",
       "      <td>{'C': 5, 'gamma': 'auto', 'kernel': 'linear'}</td>\n",
       "      <td>1.000000</td>\n",
       "      <td>1.000000</td>\n",
       "      <td>...</td>\n",
       "      <td>1.000000</td>\n",
       "      <td>1.000000</td>\n",
       "      <td>0.000000</td>\n",
       "      <td>1</td>\n",
       "      <td>1.000000</td>\n",
       "      <td>1.000000</td>\n",
       "      <td>1.000000</td>\n",
       "      <td>1.000000</td>\n",
       "      <td>1.000000</td>\n",
       "      <td>0.000000</td>\n",
       "    </tr>\n",
       "    <tr>\n",
       "      <th>10</th>\n",
       "      <td>0.011720</td>\n",
       "      <td>0.006767</td>\n",
       "      <td>0.003905</td>\n",
       "      <td>0.006764</td>\n",
       "      <td>5</td>\n",
       "      <td>scale</td>\n",
       "      <td>rbf</td>\n",
       "      <td>{'C': 5, 'gamma': 'scale', 'kernel': 'rbf'}</td>\n",
       "      <td>0.923810</td>\n",
       "      <td>1.000000</td>\n",
       "      <td>...</td>\n",
       "      <td>0.884615</td>\n",
       "      <td>0.920856</td>\n",
       "      <td>0.049215</td>\n",
       "      <td>26</td>\n",
       "      <td>0.936102</td>\n",
       "      <td>0.964856</td>\n",
       "      <td>0.929936</td>\n",
       "      <td>0.917197</td>\n",
       "      <td>0.937023</td>\n",
       "      <td>0.017456</td>\n",
       "    </tr>\n",
       "    <tr>\n",
       "      <th>11</th>\n",
       "      <td>0.007906</td>\n",
       "      <td>0.005525</td>\n",
       "      <td>0.001190</td>\n",
       "      <td>0.002061</td>\n",
       "      <td>5</td>\n",
       "      <td>scale</td>\n",
       "      <td>linear</td>\n",
       "      <td>{'C': 5, 'gamma': 'scale', 'kernel': 'linear'}</td>\n",
       "      <td>1.000000</td>\n",
       "      <td>1.000000</td>\n",
       "      <td>...</td>\n",
       "      <td>1.000000</td>\n",
       "      <td>1.000000</td>\n",
       "      <td>0.000000</td>\n",
       "      <td>1</td>\n",
       "      <td>1.000000</td>\n",
       "      <td>1.000000</td>\n",
       "      <td>1.000000</td>\n",
       "      <td>1.000000</td>\n",
       "      <td>1.000000</td>\n",
       "      <td>0.000000</td>\n",
       "    </tr>\n",
       "    <tr>\n",
       "      <th>12</th>\n",
       "      <td>0.014010</td>\n",
       "      <td>0.003448</td>\n",
       "      <td>0.005993</td>\n",
       "      <td>0.003460</td>\n",
       "      <td>6</td>\n",
       "      <td>auto</td>\n",
       "      <td>rbf</td>\n",
       "      <td>{'C': 6, 'gamma': 'auto', 'kernel': 'rbf'}</td>\n",
       "      <td>0.980952</td>\n",
       "      <td>0.980952</td>\n",
       "      <td>...</td>\n",
       "      <td>0.980769</td>\n",
       "      <td>0.980861</td>\n",
       "      <td>0.000092</td>\n",
       "      <td>16</td>\n",
       "      <td>1.000000</td>\n",
       "      <td>1.000000</td>\n",
       "      <td>1.000000</td>\n",
       "      <td>1.000000</td>\n",
       "      <td>1.000000</td>\n",
       "      <td>0.000000</td>\n",
       "    </tr>\n",
       "    <tr>\n",
       "      <th>13</th>\n",
       "      <td>0.003998</td>\n",
       "      <td>0.003998</td>\n",
       "      <td>0.001999</td>\n",
       "      <td>0.003462</td>\n",
       "      <td>6</td>\n",
       "      <td>auto</td>\n",
       "      <td>linear</td>\n",
       "      <td>{'C': 6, 'gamma': 'auto', 'kernel': 'linear'}</td>\n",
       "      <td>1.000000</td>\n",
       "      <td>1.000000</td>\n",
       "      <td>...</td>\n",
       "      <td>1.000000</td>\n",
       "      <td>1.000000</td>\n",
       "      <td>0.000000</td>\n",
       "      <td>1</td>\n",
       "      <td>1.000000</td>\n",
       "      <td>1.000000</td>\n",
       "      <td>1.000000</td>\n",
       "      <td>1.000000</td>\n",
       "      <td>1.000000</td>\n",
       "      <td>0.000000</td>\n",
       "    </tr>\n",
       "    <tr>\n",
       "      <th>14</th>\n",
       "      <td>0.021999</td>\n",
       "      <td>0.006624</td>\n",
       "      <td>0.008000</td>\n",
       "      <td>0.005656</td>\n",
       "      <td>6</td>\n",
       "      <td>scale</td>\n",
       "      <td>rbf</td>\n",
       "      <td>{'C': 6, 'gamma': 'scale', 'kernel': 'rbf'}</td>\n",
       "      <td>0.961905</td>\n",
       "      <td>0.990476</td>\n",
       "      <td>...</td>\n",
       "      <td>0.932692</td>\n",
       "      <td>0.952038</td>\n",
       "      <td>0.026400</td>\n",
       "      <td>24</td>\n",
       "      <td>0.955272</td>\n",
       "      <td>1.000000</td>\n",
       "      <td>0.958599</td>\n",
       "      <td>0.952229</td>\n",
       "      <td>0.966525</td>\n",
       "      <td>0.019458</td>\n",
       "    </tr>\n",
       "    <tr>\n",
       "      <th>15</th>\n",
       "      <td>0.004001</td>\n",
       "      <td>0.004001</td>\n",
       "      <td>0.004000</td>\n",
       "      <td>0.004000</td>\n",
       "      <td>6</td>\n",
       "      <td>scale</td>\n",
       "      <td>linear</td>\n",
       "      <td>{'C': 6, 'gamma': 'scale', 'kernel': 'linear'}</td>\n",
       "      <td>1.000000</td>\n",
       "      <td>1.000000</td>\n",
       "      <td>...</td>\n",
       "      <td>1.000000</td>\n",
       "      <td>1.000000</td>\n",
       "      <td>0.000000</td>\n",
       "      <td>1</td>\n",
       "      <td>1.000000</td>\n",
       "      <td>1.000000</td>\n",
       "      <td>1.000000</td>\n",
       "      <td>1.000000</td>\n",
       "      <td>1.000000</td>\n",
       "      <td>0.000000</td>\n",
       "    </tr>\n",
       "    <tr>\n",
       "      <th>16</th>\n",
       "      <td>0.015998</td>\n",
       "      <td>0.000003</td>\n",
       "      <td>0.008004</td>\n",
       "      <td>0.000008</td>\n",
       "      <td>7</td>\n",
       "      <td>auto</td>\n",
       "      <td>rbf</td>\n",
       "      <td>{'C': 7, 'gamma': 'auto', 'kernel': 'rbf'}</td>\n",
       "      <td>0.980952</td>\n",
       "      <td>0.980952</td>\n",
       "      <td>...</td>\n",
       "      <td>0.980769</td>\n",
       "      <td>0.980861</td>\n",
       "      <td>0.000092</td>\n",
       "      <td>16</td>\n",
       "      <td>1.000000</td>\n",
       "      <td>1.000000</td>\n",
       "      <td>1.000000</td>\n",
       "      <td>1.000000</td>\n",
       "      <td>1.000000</td>\n",
       "      <td>0.000000</td>\n",
       "    </tr>\n",
       "    <tr>\n",
       "      <th>17</th>\n",
       "      <td>0.002001</td>\n",
       "      <td>0.003466</td>\n",
       "      <td>0.004000</td>\n",
       "      <td>0.004000</td>\n",
       "      <td>7</td>\n",
       "      <td>auto</td>\n",
       "      <td>linear</td>\n",
       "      <td>{'C': 7, 'gamma': 'auto', 'kernel': 'linear'}</td>\n",
       "      <td>1.000000</td>\n",
       "      <td>1.000000</td>\n",
       "      <td>...</td>\n",
       "      <td>1.000000</td>\n",
       "      <td>1.000000</td>\n",
       "      <td>0.000000</td>\n",
       "      <td>1</td>\n",
       "      <td>1.000000</td>\n",
       "      <td>1.000000</td>\n",
       "      <td>1.000000</td>\n",
       "      <td>1.000000</td>\n",
       "      <td>1.000000</td>\n",
       "      <td>0.000000</td>\n",
       "    </tr>\n",
       "    <tr>\n",
       "      <th>18</th>\n",
       "      <td>0.020003</td>\n",
       "      <td>0.003997</td>\n",
       "      <td>0.003997</td>\n",
       "      <td>0.003997</td>\n",
       "      <td>7</td>\n",
       "      <td>scale</td>\n",
       "      <td>rbf</td>\n",
       "      <td>{'C': 7, 'gamma': 'scale', 'kernel': 'rbf'}</td>\n",
       "      <td>0.971429</td>\n",
       "      <td>0.990476</td>\n",
       "      <td>...</td>\n",
       "      <td>0.942308</td>\n",
       "      <td>0.959226</td>\n",
       "      <td>0.022999</td>\n",
       "      <td>23</td>\n",
       "      <td>0.971246</td>\n",
       "      <td>0.993610</td>\n",
       "      <td>0.964968</td>\n",
       "      <td>0.958599</td>\n",
       "      <td>0.972106</td>\n",
       "      <td>0.013196</td>\n",
       "    </tr>\n",
       "    <tr>\n",
       "      <th>19</th>\n",
       "      <td>0.004000</td>\n",
       "      <td>0.004000</td>\n",
       "      <td>0.000000</td>\n",
       "      <td>0.000000</td>\n",
       "      <td>7</td>\n",
       "      <td>scale</td>\n",
       "      <td>linear</td>\n",
       "      <td>{'C': 7, 'gamma': 'scale', 'kernel': 'linear'}</td>\n",
       "      <td>1.000000</td>\n",
       "      <td>1.000000</td>\n",
       "      <td>...</td>\n",
       "      <td>1.000000</td>\n",
       "      <td>1.000000</td>\n",
       "      <td>0.000000</td>\n",
       "      <td>1</td>\n",
       "      <td>1.000000</td>\n",
       "      <td>1.000000</td>\n",
       "      <td>1.000000</td>\n",
       "      <td>1.000000</td>\n",
       "      <td>1.000000</td>\n",
       "      <td>0.000000</td>\n",
       "    </tr>\n",
       "    <tr>\n",
       "      <th>20</th>\n",
       "      <td>0.011999</td>\n",
       "      <td>0.004001</td>\n",
       "      <td>0.004000</td>\n",
       "      <td>0.004000</td>\n",
       "      <td>8</td>\n",
       "      <td>auto</td>\n",
       "      <td>rbf</td>\n",
       "      <td>{'C': 8, 'gamma': 'auto', 'kernel': 'rbf'}</td>\n",
       "      <td>0.980952</td>\n",
       "      <td>0.980952</td>\n",
       "      <td>...</td>\n",
       "      <td>0.980769</td>\n",
       "      <td>0.980861</td>\n",
       "      <td>0.000092</td>\n",
       "      <td>16</td>\n",
       "      <td>1.000000</td>\n",
       "      <td>1.000000</td>\n",
       "      <td>1.000000</td>\n",
       "      <td>1.000000</td>\n",
       "      <td>1.000000</td>\n",
       "      <td>0.000000</td>\n",
       "    </tr>\n",
       "    <tr>\n",
       "      <th>21</th>\n",
       "      <td>0.002001</td>\n",
       "      <td>0.003465</td>\n",
       "      <td>0.002000</td>\n",
       "      <td>0.003464</td>\n",
       "      <td>8</td>\n",
       "      <td>auto</td>\n",
       "      <td>linear</td>\n",
       "      <td>{'C': 8, 'gamma': 'auto', 'kernel': 'linear'}</td>\n",
       "      <td>1.000000</td>\n",
       "      <td>1.000000</td>\n",
       "      <td>...</td>\n",
       "      <td>1.000000</td>\n",
       "      <td>1.000000</td>\n",
       "      <td>0.000000</td>\n",
       "      <td>1</td>\n",
       "      <td>1.000000</td>\n",
       "      <td>1.000000</td>\n",
       "      <td>1.000000</td>\n",
       "      <td>1.000000</td>\n",
       "      <td>1.000000</td>\n",
       "      <td>0.000000</td>\n",
       "    </tr>\n",
       "    <tr>\n",
       "      <th>22</th>\n",
       "      <td>0.010002</td>\n",
       "      <td>0.003463</td>\n",
       "      <td>0.002000</td>\n",
       "      <td>0.003464</td>\n",
       "      <td>8</td>\n",
       "      <td>scale</td>\n",
       "      <td>rbf</td>\n",
       "      <td>{'C': 8, 'gamma': 'scale', 'kernel': 'rbf'}</td>\n",
       "      <td>0.980952</td>\n",
       "      <td>0.990476</td>\n",
       "      <td>...</td>\n",
       "      <td>0.971154</td>\n",
       "      <td>0.973626</td>\n",
       "      <td>0.014272</td>\n",
       "      <td>22</td>\n",
       "      <td>0.977636</td>\n",
       "      <td>0.993610</td>\n",
       "      <td>0.984076</td>\n",
       "      <td>0.987261</td>\n",
       "      <td>0.985646</td>\n",
       "      <td>0.005759</td>\n",
       "    </tr>\n",
       "    <tr>\n",
       "      <th>23</th>\n",
       "      <td>0.002000</td>\n",
       "      <td>0.003465</td>\n",
       "      <td>0.002000</td>\n",
       "      <td>0.003464</td>\n",
       "      <td>8</td>\n",
       "      <td>scale</td>\n",
       "      <td>linear</td>\n",
       "      <td>{'C': 8, 'gamma': 'scale', 'kernel': 'linear'}</td>\n",
       "      <td>1.000000</td>\n",
       "      <td>1.000000</td>\n",
       "      <td>...</td>\n",
       "      <td>1.000000</td>\n",
       "      <td>1.000000</td>\n",
       "      <td>0.000000</td>\n",
       "      <td>1</td>\n",
       "      <td>1.000000</td>\n",
       "      <td>1.000000</td>\n",
       "      <td>1.000000</td>\n",
       "      <td>1.000000</td>\n",
       "      <td>1.000000</td>\n",
       "      <td>0.000000</td>\n",
       "    </tr>\n",
       "    <tr>\n",
       "      <th>24</th>\n",
       "      <td>0.009809</td>\n",
       "      <td>0.006463</td>\n",
       "      <td>0.003906</td>\n",
       "      <td>0.006765</td>\n",
       "      <td>10</td>\n",
       "      <td>auto</td>\n",
       "      <td>rbf</td>\n",
       "      <td>{'C': 10, 'gamma': 'auto', 'kernel': 'rbf'}</td>\n",
       "      <td>0.980952</td>\n",
       "      <td>0.980952</td>\n",
       "      <td>...</td>\n",
       "      <td>0.980769</td>\n",
       "      <td>0.980861</td>\n",
       "      <td>0.000092</td>\n",
       "      <td>16</td>\n",
       "      <td>1.000000</td>\n",
       "      <td>1.000000</td>\n",
       "      <td>1.000000</td>\n",
       "      <td>1.000000</td>\n",
       "      <td>1.000000</td>\n",
       "      <td>0.000000</td>\n",
       "    </tr>\n",
       "    <tr>\n",
       "      <th>25</th>\n",
       "      <td>0.007811</td>\n",
       "      <td>0.007811</td>\n",
       "      <td>0.000000</td>\n",
       "      <td>0.000000</td>\n",
       "      <td>10</td>\n",
       "      <td>auto</td>\n",
       "      <td>linear</td>\n",
       "      <td>{'C': 10, 'gamma': 'auto', 'kernel': 'linear'}</td>\n",
       "      <td>1.000000</td>\n",
       "      <td>1.000000</td>\n",
       "      <td>...</td>\n",
       "      <td>1.000000</td>\n",
       "      <td>1.000000</td>\n",
       "      <td>0.000000</td>\n",
       "      <td>1</td>\n",
       "      <td>1.000000</td>\n",
       "      <td>1.000000</td>\n",
       "      <td>1.000000</td>\n",
       "      <td>1.000000</td>\n",
       "      <td>1.000000</td>\n",
       "      <td>0.000000</td>\n",
       "    </tr>\n",
       "    <tr>\n",
       "      <th>26</th>\n",
       "      <td>0.011717</td>\n",
       "      <td>0.006765</td>\n",
       "      <td>0.007810</td>\n",
       "      <td>0.007810</td>\n",
       "      <td>10</td>\n",
       "      <td>scale</td>\n",
       "      <td>rbf</td>\n",
       "      <td>{'C': 10, 'gamma': 'scale', 'kernel': 'rbf'}</td>\n",
       "      <td>1.000000</td>\n",
       "      <td>0.990476</td>\n",
       "      <td>...</td>\n",
       "      <td>1.000000</td>\n",
       "      <td>0.990408</td>\n",
       "      <td>0.011776</td>\n",
       "      <td>15</td>\n",
       "      <td>0.996805</td>\n",
       "      <td>0.996805</td>\n",
       "      <td>0.996815</td>\n",
       "      <td>0.996815</td>\n",
       "      <td>0.996810</td>\n",
       "      <td>0.000005</td>\n",
       "    </tr>\n",
       "    <tr>\n",
       "      <th>27</th>\n",
       "      <td>0.000000</td>\n",
       "      <td>0.000000</td>\n",
       "      <td>0.000000</td>\n",
       "      <td>0.000000</td>\n",
       "      <td>10</td>\n",
       "      <td>scale</td>\n",
       "      <td>linear</td>\n",
       "      <td>{'C': 10, 'gamma': 'scale', 'kernel': 'linear'}</td>\n",
       "      <td>1.000000</td>\n",
       "      <td>1.000000</td>\n",
       "      <td>...</td>\n",
       "      <td>1.000000</td>\n",
       "      <td>1.000000</td>\n",
       "      <td>0.000000</td>\n",
       "      <td>1</td>\n",
       "      <td>1.000000</td>\n",
       "      <td>1.000000</td>\n",
       "      <td>1.000000</td>\n",
       "      <td>1.000000</td>\n",
       "      <td>1.000000</td>\n",
       "      <td>0.000000</td>\n",
       "    </tr>\n",
       "  </tbody>\n",
       "</table>\n",
       "<p>28 rows × 21 columns</p>\n",
       "</div>"
      ],
      "text/plain": [
       "    mean_fit_time  std_fit_time  mean_score_time  std_score_time param_C  \\\n",
       "0        0.013920      0.003431         0.001999        0.003463       1   \n",
       "1        0.003906      0.006765         0.000000        0.000000       1   \n",
       "2        0.007807      0.007807         0.003908        0.006769       1   \n",
       "3        0.002285      0.003333         0.000000        0.000000       1   \n",
       "4        0.009813      0.006465         0.005906        0.006491       4   \n",
       "5        0.000000      0.000000         0.000000        0.000000       4   \n",
       "6        0.003905      0.006764         0.003905        0.006764       4   \n",
       "7        0.000000      0.000000         0.007811        0.007811       4   \n",
       "8        0.010979      0.003187         0.004000        0.004000       5   \n",
       "9        0.000000      0.000000         0.003906        0.006765       5   \n",
       "10       0.011720      0.006767         0.003905        0.006764       5   \n",
       "11       0.007906      0.005525         0.001190        0.002061       5   \n",
       "12       0.014010      0.003448         0.005993        0.003460       6   \n",
       "13       0.003998      0.003998         0.001999        0.003462       6   \n",
       "14       0.021999      0.006624         0.008000        0.005656       6   \n",
       "15       0.004001      0.004001         0.004000        0.004000       6   \n",
       "16       0.015998      0.000003         0.008004        0.000008       7   \n",
       "17       0.002001      0.003466         0.004000        0.004000       7   \n",
       "18       0.020003      0.003997         0.003997        0.003997       7   \n",
       "19       0.004000      0.004000         0.000000        0.000000       7   \n",
       "20       0.011999      0.004001         0.004000        0.004000       8   \n",
       "21       0.002001      0.003465         0.002000        0.003464       8   \n",
       "22       0.010002      0.003463         0.002000        0.003464       8   \n",
       "23       0.002000      0.003465         0.002000        0.003464       8   \n",
       "24       0.009809      0.006463         0.003906        0.006765      10   \n",
       "25       0.007811      0.007811         0.000000        0.000000      10   \n",
       "26       0.011717      0.006765         0.007810        0.007810      10   \n",
       "27       0.000000      0.000000         0.000000        0.000000      10   \n",
       "\n",
       "   param_gamma param_kernel                                           params  \\\n",
       "0         auto          rbf       {'C': 1, 'gamma': 'auto', 'kernel': 'rbf'}   \n",
       "1         auto       linear    {'C': 1, 'gamma': 'auto', 'kernel': 'linear'}   \n",
       "2        scale          rbf      {'C': 1, 'gamma': 'scale', 'kernel': 'rbf'}   \n",
       "3        scale       linear   {'C': 1, 'gamma': 'scale', 'kernel': 'linear'}   \n",
       "4         auto          rbf       {'C': 4, 'gamma': 'auto', 'kernel': 'rbf'}   \n",
       "5         auto       linear    {'C': 4, 'gamma': 'auto', 'kernel': 'linear'}   \n",
       "6        scale          rbf      {'C': 4, 'gamma': 'scale', 'kernel': 'rbf'}   \n",
       "7        scale       linear   {'C': 4, 'gamma': 'scale', 'kernel': 'linear'}   \n",
       "8         auto          rbf       {'C': 5, 'gamma': 'auto', 'kernel': 'rbf'}   \n",
       "9         auto       linear    {'C': 5, 'gamma': 'auto', 'kernel': 'linear'}   \n",
       "10       scale          rbf      {'C': 5, 'gamma': 'scale', 'kernel': 'rbf'}   \n",
       "11       scale       linear   {'C': 5, 'gamma': 'scale', 'kernel': 'linear'}   \n",
       "12        auto          rbf       {'C': 6, 'gamma': 'auto', 'kernel': 'rbf'}   \n",
       "13        auto       linear    {'C': 6, 'gamma': 'auto', 'kernel': 'linear'}   \n",
       "14       scale          rbf      {'C': 6, 'gamma': 'scale', 'kernel': 'rbf'}   \n",
       "15       scale       linear   {'C': 6, 'gamma': 'scale', 'kernel': 'linear'}   \n",
       "16        auto          rbf       {'C': 7, 'gamma': 'auto', 'kernel': 'rbf'}   \n",
       "17        auto       linear    {'C': 7, 'gamma': 'auto', 'kernel': 'linear'}   \n",
       "18       scale          rbf      {'C': 7, 'gamma': 'scale', 'kernel': 'rbf'}   \n",
       "19       scale       linear   {'C': 7, 'gamma': 'scale', 'kernel': 'linear'}   \n",
       "20        auto          rbf       {'C': 8, 'gamma': 'auto', 'kernel': 'rbf'}   \n",
       "21        auto       linear    {'C': 8, 'gamma': 'auto', 'kernel': 'linear'}   \n",
       "22       scale          rbf      {'C': 8, 'gamma': 'scale', 'kernel': 'rbf'}   \n",
       "23       scale       linear   {'C': 8, 'gamma': 'scale', 'kernel': 'linear'}   \n",
       "24        auto          rbf      {'C': 10, 'gamma': 'auto', 'kernel': 'rbf'}   \n",
       "25        auto       linear   {'C': 10, 'gamma': 'auto', 'kernel': 'linear'}   \n",
       "26       scale          rbf     {'C': 10, 'gamma': 'scale', 'kernel': 'rbf'}   \n",
       "27       scale       linear  {'C': 10, 'gamma': 'scale', 'kernel': 'linear'}   \n",
       "\n",
       "    split0_test_score  split1_test_score  ...  split3_test_score  \\\n",
       "0            0.942857           0.933333  ...           0.971154   \n",
       "1            1.000000           1.000000  ...           1.000000   \n",
       "2            0.638095           0.638095  ...           0.634615   \n",
       "3            1.000000           1.000000  ...           1.000000   \n",
       "4            0.980952           0.980952  ...           0.980769   \n",
       "5            1.000000           1.000000  ...           1.000000   \n",
       "6            0.857143           0.666667  ...           0.788462   \n",
       "7            1.000000           1.000000  ...           1.000000   \n",
       "8            0.980952           0.980952  ...           0.980769   \n",
       "9            1.000000           1.000000  ...           1.000000   \n",
       "10           0.923810           1.000000  ...           0.884615   \n",
       "11           1.000000           1.000000  ...           1.000000   \n",
       "12           0.980952           0.980952  ...           0.980769   \n",
       "13           1.000000           1.000000  ...           1.000000   \n",
       "14           0.961905           0.990476  ...           0.932692   \n",
       "15           1.000000           1.000000  ...           1.000000   \n",
       "16           0.980952           0.980952  ...           0.980769   \n",
       "17           1.000000           1.000000  ...           1.000000   \n",
       "18           0.971429           0.990476  ...           0.942308   \n",
       "19           1.000000           1.000000  ...           1.000000   \n",
       "20           0.980952           0.980952  ...           0.980769   \n",
       "21           1.000000           1.000000  ...           1.000000   \n",
       "22           0.980952           0.990476  ...           0.971154   \n",
       "23           1.000000           1.000000  ...           1.000000   \n",
       "24           0.980952           0.980952  ...           0.980769   \n",
       "25           1.000000           1.000000  ...           1.000000   \n",
       "26           1.000000           0.990476  ...           1.000000   \n",
       "27           1.000000           1.000000  ...           1.000000   \n",
       "\n",
       "    mean_test_score  std_test_score  rank_test_score  split0_train_score  \\\n",
       "0          0.949817        0.013963               25            0.996805   \n",
       "1          1.000000        0.000000                1            1.000000   \n",
       "2          0.636355        0.001740               28            0.635783   \n",
       "3          1.000000        0.000000                1            1.000000   \n",
       "4          0.980861        0.000092               16            1.000000   \n",
       "5          1.000000        0.000000                1            1.000000   \n",
       "6          0.779991        0.070061               27            0.872204   \n",
       "7          1.000000        0.000000                1            1.000000   \n",
       "8          0.980861        0.000092               16            1.000000   \n",
       "9          1.000000        0.000000                1            1.000000   \n",
       "10         0.920856        0.049215               26            0.936102   \n",
       "11         1.000000        0.000000                1            1.000000   \n",
       "12         0.980861        0.000092               16            1.000000   \n",
       "13         1.000000        0.000000                1            1.000000   \n",
       "14         0.952038        0.026400               24            0.955272   \n",
       "15         1.000000        0.000000                1            1.000000   \n",
       "16         0.980861        0.000092               16            1.000000   \n",
       "17         1.000000        0.000000                1            1.000000   \n",
       "18         0.959226        0.022999               23            0.971246   \n",
       "19         1.000000        0.000000                1            1.000000   \n",
       "20         0.980861        0.000092               16            1.000000   \n",
       "21         1.000000        0.000000                1            1.000000   \n",
       "22         0.973626        0.014272               22            0.977636   \n",
       "23         1.000000        0.000000                1            1.000000   \n",
       "24         0.980861        0.000092               16            1.000000   \n",
       "25         1.000000        0.000000                1            1.000000   \n",
       "26         0.990408        0.011776               15            0.996805   \n",
       "27         1.000000        0.000000                1            1.000000   \n",
       "\n",
       "    split1_train_score  split2_train_score  split3_train_score  \\\n",
       "0             0.996805            0.996815            0.996815   \n",
       "1             1.000000            1.000000            1.000000   \n",
       "2             0.635783            0.636943            0.636943   \n",
       "3             1.000000            1.000000            1.000000   \n",
       "4             1.000000            1.000000            1.000000   \n",
       "5             1.000000            1.000000            1.000000   \n",
       "6             0.667732            0.824841            0.824841   \n",
       "7             1.000000            1.000000            1.000000   \n",
       "8             1.000000            1.000000            1.000000   \n",
       "9             1.000000            1.000000            1.000000   \n",
       "10            0.964856            0.929936            0.917197   \n",
       "11            1.000000            1.000000            1.000000   \n",
       "12            1.000000            1.000000            1.000000   \n",
       "13            1.000000            1.000000            1.000000   \n",
       "14            1.000000            0.958599            0.952229   \n",
       "15            1.000000            1.000000            1.000000   \n",
       "16            1.000000            1.000000            1.000000   \n",
       "17            1.000000            1.000000            1.000000   \n",
       "18            0.993610            0.964968            0.958599   \n",
       "19            1.000000            1.000000            1.000000   \n",
       "20            1.000000            1.000000            1.000000   \n",
       "21            1.000000            1.000000            1.000000   \n",
       "22            0.993610            0.984076            0.987261   \n",
       "23            1.000000            1.000000            1.000000   \n",
       "24            1.000000            1.000000            1.000000   \n",
       "25            1.000000            1.000000            1.000000   \n",
       "26            0.996805            0.996815            0.996815   \n",
       "27            1.000000            1.000000            1.000000   \n",
       "\n",
       "    mean_train_score  std_train_score  \n",
       "0           0.996810         0.000005  \n",
       "1           1.000000         0.000000  \n",
       "2           0.636363         0.000580  \n",
       "3           1.000000         0.000000  \n",
       "4           1.000000         0.000000  \n",
       "5           1.000000         0.000000  \n",
       "6           0.797404         0.077323  \n",
       "7           1.000000         0.000000  \n",
       "8           1.000000         0.000000  \n",
       "9           1.000000         0.000000  \n",
       "10          0.937023         0.017456  \n",
       "11          1.000000         0.000000  \n",
       "12          1.000000         0.000000  \n",
       "13          1.000000         0.000000  \n",
       "14          0.966525         0.019458  \n",
       "15          1.000000         0.000000  \n",
       "16          1.000000         0.000000  \n",
       "17          1.000000         0.000000  \n",
       "18          0.972106         0.013196  \n",
       "19          1.000000         0.000000  \n",
       "20          1.000000         0.000000  \n",
       "21          1.000000         0.000000  \n",
       "22          0.985646         0.005759  \n",
       "23          1.000000         0.000000  \n",
       "24          1.000000         0.000000  \n",
       "25          1.000000         0.000000  \n",
       "26          0.996810         0.000005  \n",
       "27          1.000000         0.000000  \n",
       "\n",
       "[28 rows x 21 columns]"
      ]
     },
     "execution_count": 147,
     "metadata": {},
     "output_type": "execute_result"
    }
   ],
   "source": [
    "db1=pd.DataFrame(gs.cv_results_)   # To convert it into Data Frame\n",
    "db1"
   ]
  },
  {
   "cell_type": "code",
   "execution_count": 148,
   "id": "625deeea",
   "metadata": {},
   "outputs": [
    {
     "data": {
      "text/html": [
       "<div>\n",
       "<style scoped>\n",
       "    .dataframe tbody tr th:only-of-type {\n",
       "        vertical-align: middle;\n",
       "    }\n",
       "\n",
       "    .dataframe tbody tr th {\n",
       "        vertical-align: top;\n",
       "    }\n",
       "\n",
       "    .dataframe thead th {\n",
       "        text-align: right;\n",
       "    }\n",
       "</style>\n",
       "<table border=\"1\" class=\"dataframe\">\n",
       "  <thead>\n",
       "    <tr style=\"text-align: right;\">\n",
       "      <th></th>\n",
       "      <th>param_C</th>\n",
       "      <th>param_gamma</th>\n",
       "      <th>param_kernel</th>\n",
       "      <th>mean_test_score</th>\n",
       "    </tr>\n",
       "  </thead>\n",
       "  <tbody>\n",
       "    <tr>\n",
       "      <th>0</th>\n",
       "      <td>1</td>\n",
       "      <td>auto</td>\n",
       "      <td>rbf</td>\n",
       "      <td>0.949817</td>\n",
       "    </tr>\n",
       "    <tr>\n",
       "      <th>1</th>\n",
       "      <td>1</td>\n",
       "      <td>auto</td>\n",
       "      <td>linear</td>\n",
       "      <td>1.000000</td>\n",
       "    </tr>\n",
       "    <tr>\n",
       "      <th>2</th>\n",
       "      <td>1</td>\n",
       "      <td>scale</td>\n",
       "      <td>rbf</td>\n",
       "      <td>0.636355</td>\n",
       "    </tr>\n",
       "    <tr>\n",
       "      <th>3</th>\n",
       "      <td>1</td>\n",
       "      <td>scale</td>\n",
       "      <td>linear</td>\n",
       "      <td>1.000000</td>\n",
       "    </tr>\n",
       "    <tr>\n",
       "      <th>4</th>\n",
       "      <td>4</td>\n",
       "      <td>auto</td>\n",
       "      <td>rbf</td>\n",
       "      <td>0.980861</td>\n",
       "    </tr>\n",
       "    <tr>\n",
       "      <th>5</th>\n",
       "      <td>4</td>\n",
       "      <td>auto</td>\n",
       "      <td>linear</td>\n",
       "      <td>1.000000</td>\n",
       "    </tr>\n",
       "    <tr>\n",
       "      <th>6</th>\n",
       "      <td>4</td>\n",
       "      <td>scale</td>\n",
       "      <td>rbf</td>\n",
       "      <td>0.779991</td>\n",
       "    </tr>\n",
       "    <tr>\n",
       "      <th>7</th>\n",
       "      <td>4</td>\n",
       "      <td>scale</td>\n",
       "      <td>linear</td>\n",
       "      <td>1.000000</td>\n",
       "    </tr>\n",
       "    <tr>\n",
       "      <th>8</th>\n",
       "      <td>5</td>\n",
       "      <td>auto</td>\n",
       "      <td>rbf</td>\n",
       "      <td>0.980861</td>\n",
       "    </tr>\n",
       "    <tr>\n",
       "      <th>9</th>\n",
       "      <td>5</td>\n",
       "      <td>auto</td>\n",
       "      <td>linear</td>\n",
       "      <td>1.000000</td>\n",
       "    </tr>\n",
       "    <tr>\n",
       "      <th>10</th>\n",
       "      <td>5</td>\n",
       "      <td>scale</td>\n",
       "      <td>rbf</td>\n",
       "      <td>0.920856</td>\n",
       "    </tr>\n",
       "    <tr>\n",
       "      <th>11</th>\n",
       "      <td>5</td>\n",
       "      <td>scale</td>\n",
       "      <td>linear</td>\n",
       "      <td>1.000000</td>\n",
       "    </tr>\n",
       "    <tr>\n",
       "      <th>12</th>\n",
       "      <td>6</td>\n",
       "      <td>auto</td>\n",
       "      <td>rbf</td>\n",
       "      <td>0.980861</td>\n",
       "    </tr>\n",
       "    <tr>\n",
       "      <th>13</th>\n",
       "      <td>6</td>\n",
       "      <td>auto</td>\n",
       "      <td>linear</td>\n",
       "      <td>1.000000</td>\n",
       "    </tr>\n",
       "    <tr>\n",
       "      <th>14</th>\n",
       "      <td>6</td>\n",
       "      <td>scale</td>\n",
       "      <td>rbf</td>\n",
       "      <td>0.952038</td>\n",
       "    </tr>\n",
       "    <tr>\n",
       "      <th>15</th>\n",
       "      <td>6</td>\n",
       "      <td>scale</td>\n",
       "      <td>linear</td>\n",
       "      <td>1.000000</td>\n",
       "    </tr>\n",
       "    <tr>\n",
       "      <th>16</th>\n",
       "      <td>7</td>\n",
       "      <td>auto</td>\n",
       "      <td>rbf</td>\n",
       "      <td>0.980861</td>\n",
       "    </tr>\n",
       "    <tr>\n",
       "      <th>17</th>\n",
       "      <td>7</td>\n",
       "      <td>auto</td>\n",
       "      <td>linear</td>\n",
       "      <td>1.000000</td>\n",
       "    </tr>\n",
       "    <tr>\n",
       "      <th>18</th>\n",
       "      <td>7</td>\n",
       "      <td>scale</td>\n",
       "      <td>rbf</td>\n",
       "      <td>0.959226</td>\n",
       "    </tr>\n",
       "    <tr>\n",
       "      <th>19</th>\n",
       "      <td>7</td>\n",
       "      <td>scale</td>\n",
       "      <td>linear</td>\n",
       "      <td>1.000000</td>\n",
       "    </tr>\n",
       "    <tr>\n",
       "      <th>20</th>\n",
       "      <td>8</td>\n",
       "      <td>auto</td>\n",
       "      <td>rbf</td>\n",
       "      <td>0.980861</td>\n",
       "    </tr>\n",
       "    <tr>\n",
       "      <th>21</th>\n",
       "      <td>8</td>\n",
       "      <td>auto</td>\n",
       "      <td>linear</td>\n",
       "      <td>1.000000</td>\n",
       "    </tr>\n",
       "    <tr>\n",
       "      <th>22</th>\n",
       "      <td>8</td>\n",
       "      <td>scale</td>\n",
       "      <td>rbf</td>\n",
       "      <td>0.973626</td>\n",
       "    </tr>\n",
       "    <tr>\n",
       "      <th>23</th>\n",
       "      <td>8</td>\n",
       "      <td>scale</td>\n",
       "      <td>linear</td>\n",
       "      <td>1.000000</td>\n",
       "    </tr>\n",
       "    <tr>\n",
       "      <th>24</th>\n",
       "      <td>10</td>\n",
       "      <td>auto</td>\n",
       "      <td>rbf</td>\n",
       "      <td>0.980861</td>\n",
       "    </tr>\n",
       "    <tr>\n",
       "      <th>25</th>\n",
       "      <td>10</td>\n",
       "      <td>auto</td>\n",
       "      <td>linear</td>\n",
       "      <td>1.000000</td>\n",
       "    </tr>\n",
       "    <tr>\n",
       "      <th>26</th>\n",
       "      <td>10</td>\n",
       "      <td>scale</td>\n",
       "      <td>rbf</td>\n",
       "      <td>0.990408</td>\n",
       "    </tr>\n",
       "    <tr>\n",
       "      <th>27</th>\n",
       "      <td>10</td>\n",
       "      <td>scale</td>\n",
       "      <td>linear</td>\n",
       "      <td>1.000000</td>\n",
       "    </tr>\n",
       "  </tbody>\n",
       "</table>\n",
       "</div>"
      ],
      "text/plain": [
       "   param_C param_gamma param_kernel  mean_test_score\n",
       "0        1        auto          rbf         0.949817\n",
       "1        1        auto       linear         1.000000\n",
       "2        1       scale          rbf         0.636355\n",
       "3        1       scale       linear         1.000000\n",
       "4        4        auto          rbf         0.980861\n",
       "5        4        auto       linear         1.000000\n",
       "6        4       scale          rbf         0.779991\n",
       "7        4       scale       linear         1.000000\n",
       "8        5        auto          rbf         0.980861\n",
       "9        5        auto       linear         1.000000\n",
       "10       5       scale          rbf         0.920856\n",
       "11       5       scale       linear         1.000000\n",
       "12       6        auto          rbf         0.980861\n",
       "13       6        auto       linear         1.000000\n",
       "14       6       scale          rbf         0.952038\n",
       "15       6       scale       linear         1.000000\n",
       "16       7        auto          rbf         0.980861\n",
       "17       7        auto       linear         1.000000\n",
       "18       7       scale          rbf         0.959226\n",
       "19       7       scale       linear         1.000000\n",
       "20       8        auto          rbf         0.980861\n",
       "21       8        auto       linear         1.000000\n",
       "22       8       scale          rbf         0.973626\n",
       "23       8       scale       linear         1.000000\n",
       "24      10        auto          rbf         0.980861\n",
       "25      10        auto       linear         1.000000\n",
       "26      10       scale          rbf         0.990408\n",
       "27      10       scale       linear         1.000000"
      ]
     },
     "execution_count": 148,
     "metadata": {},
     "output_type": "execute_result"
    }
   ],
   "source": [
    "db1[['param_C','param_gamma','param_kernel','mean_test_score']]"
   ]
  },
  {
   "cell_type": "code",
   "execution_count": 149,
   "id": "a15d17b2",
   "metadata": {},
   "outputs": [
    {
     "data": {
      "text/plain": [
       "{'C': 1, 'gamma': 'auto', 'kernel': 'linear'}"
      ]
     },
     "execution_count": 149,
     "metadata": {},
     "output_type": "execute_result"
    }
   ],
   "source": [
    "gs.best_params_"
   ]
  },
  {
   "cell_type": "code",
   "execution_count": 150,
   "id": "fae6eba8",
   "metadata": {},
   "outputs": [
    {
     "data": {
      "text/plain": [
       "1.0"
      ]
     },
     "execution_count": 150,
     "metadata": {},
     "output_type": "execute_result"
    }
   ],
   "source": [
    "gs.best_score_"
   ]
  },
  {
   "cell_type": "code",
   "execution_count": 151,
   "id": "c30fa2d6",
   "metadata": {},
   "outputs": [],
   "source": [
    "# Randomized Search CV"
   ]
  },
  {
   "cell_type": "code",
   "execution_count": null,
   "id": "669bf639",
   "metadata": {},
   "outputs": [],
   "source": [
    "from sklearn.model_selection import RandomizedSearchCV"
   ]
  },
  {
   "cell_type": "code",
   "execution_count": 152,
   "id": "d7880d27",
   "metadata": {},
   "outputs": [
    {
     "data": {
      "text/plain": [
       "{'mean_fit_time': array([0.00400692, 0.00199938, 0.00600892, 0.00792247]),\n",
       " 'std_fit_time': array([0.00400693, 0.00346302, 0.00346926, 0.00552403]),\n",
       " 'mean_score_time': array([0.00200099, 0.00399989, 0.00399816, 0.        ]),\n",
       " 'std_score_time': array([0.00346581, 0.00399989, 0.00399816, 0.        ]),\n",
       " 'param_kernel': masked_array(data=['linear', 'linear', 'linear', 'rbf'],\n",
       "              mask=[False, False, False, False],\n",
       "        fill_value='?',\n",
       "             dtype=object),\n",
       " 'param_gamma': masked_array(data=['scale', 'auto', 'scale', 'scale'],\n",
       "              mask=[False, False, False, False],\n",
       "        fill_value='?',\n",
       "             dtype=object),\n",
       " 'param_C': masked_array(data=[1, 7, 7, 5],\n",
       "              mask=[False, False, False, False],\n",
       "        fill_value='?',\n",
       "             dtype=object),\n",
       " 'params': [{'kernel': 'linear', 'gamma': 'scale', 'C': 1},\n",
       "  {'kernel': 'linear', 'gamma': 'auto', 'C': 7},\n",
       "  {'kernel': 'linear', 'gamma': 'scale', 'C': 7},\n",
       "  {'kernel': 'rbf', 'gamma': 'scale', 'C': 5}],\n",
       " 'split0_test_score': array([1.        , 1.        , 1.        , 0.92380952]),\n",
       " 'split1_test_score': array([1., 1., 1., 1.]),\n",
       " 'split2_test_score': array([1.   , 1.   , 1.   , 0.875]),\n",
       " 'split3_test_score': array([1.        , 1.        , 1.        , 0.88461538]),\n",
       " 'mean_test_score': array([1.        , 1.        , 1.        , 0.92085623]),\n",
       " 'std_test_score': array([0.        , 0.        , 0.        , 0.04921547]),\n",
       " 'rank_test_score': array([1, 1, 1, 4], dtype=int32),\n",
       " 'split0_train_score': array([1.        , 1.        , 1.        , 0.93610224]),\n",
       " 'split1_train_score': array([1.        , 1.        , 1.        , 0.96485623]),\n",
       " 'split2_train_score': array([1.        , 1.        , 1.        , 0.92993631]),\n",
       " 'split3_train_score': array([1.        , 1.        , 1.        , 0.91719745]),\n",
       " 'mean_train_score': array([1.        , 1.        , 1.        , 0.93702306]),\n",
       " 'std_train_score': array([0.        , 0.        , 0.        , 0.01745573])}"
      ]
     },
     "execution_count": 152,
     "metadata": {},
     "output_type": "execute_result"
    }
   ],
   "source": [
    "rs = RandomizedSearchCV(SVC(),\n",
    "                 {\n",
    "                     'C':[1,4,5,6,7,8,10],\n",
    "                     'kernel':['rbf','linear'],\n",
    "                     'gamma':['auto','scale']\n",
    "                      \n",
    "                 },cv=4,return_train_score=True,n_iter=4)\n",
    "\n",
    "rs.fit(x,y)\n",
    "rs.cv_results_"
   ]
  },
  {
   "cell_type": "code",
   "execution_count": 153,
   "id": "d7b752df",
   "metadata": {},
   "outputs": [
    {
     "data": {
      "text/html": [
       "<div>\n",
       "<style scoped>\n",
       "    .dataframe tbody tr th:only-of-type {\n",
       "        vertical-align: middle;\n",
       "    }\n",
       "\n",
       "    .dataframe tbody tr th {\n",
       "        vertical-align: top;\n",
       "    }\n",
       "\n",
       "    .dataframe thead th {\n",
       "        text-align: right;\n",
       "    }\n",
       "</style>\n",
       "<table border=\"1\" class=\"dataframe\">\n",
       "  <thead>\n",
       "    <tr style=\"text-align: right;\">\n",
       "      <th></th>\n",
       "      <th>mean_fit_time</th>\n",
       "      <th>std_fit_time</th>\n",
       "      <th>mean_score_time</th>\n",
       "      <th>std_score_time</th>\n",
       "      <th>param_kernel</th>\n",
       "      <th>param_gamma</th>\n",
       "      <th>param_C</th>\n",
       "      <th>params</th>\n",
       "      <th>split0_test_score</th>\n",
       "      <th>split1_test_score</th>\n",
       "      <th>...</th>\n",
       "      <th>split3_test_score</th>\n",
       "      <th>mean_test_score</th>\n",
       "      <th>std_test_score</th>\n",
       "      <th>rank_test_score</th>\n",
       "      <th>split0_train_score</th>\n",
       "      <th>split1_train_score</th>\n",
       "      <th>split2_train_score</th>\n",
       "      <th>split3_train_score</th>\n",
       "      <th>mean_train_score</th>\n",
       "      <th>std_train_score</th>\n",
       "    </tr>\n",
       "  </thead>\n",
       "  <tbody>\n",
       "    <tr>\n",
       "      <th>0</th>\n",
       "      <td>0.004007</td>\n",
       "      <td>0.004007</td>\n",
       "      <td>0.002001</td>\n",
       "      <td>0.003466</td>\n",
       "      <td>linear</td>\n",
       "      <td>scale</td>\n",
       "      <td>1</td>\n",
       "      <td>{'kernel': 'linear', 'gamma': 'scale', 'C': 1}</td>\n",
       "      <td>1.00000</td>\n",
       "      <td>1.0</td>\n",
       "      <td>...</td>\n",
       "      <td>1.000000</td>\n",
       "      <td>1.000000</td>\n",
       "      <td>0.000000</td>\n",
       "      <td>1</td>\n",
       "      <td>1.000000</td>\n",
       "      <td>1.000000</td>\n",
       "      <td>1.000000</td>\n",
       "      <td>1.000000</td>\n",
       "      <td>1.000000</td>\n",
       "      <td>0.000000</td>\n",
       "    </tr>\n",
       "    <tr>\n",
       "      <th>1</th>\n",
       "      <td>0.001999</td>\n",
       "      <td>0.003463</td>\n",
       "      <td>0.004000</td>\n",
       "      <td>0.004000</td>\n",
       "      <td>linear</td>\n",
       "      <td>auto</td>\n",
       "      <td>7</td>\n",
       "      <td>{'kernel': 'linear', 'gamma': 'auto', 'C': 7}</td>\n",
       "      <td>1.00000</td>\n",
       "      <td>1.0</td>\n",
       "      <td>...</td>\n",
       "      <td>1.000000</td>\n",
       "      <td>1.000000</td>\n",
       "      <td>0.000000</td>\n",
       "      <td>1</td>\n",
       "      <td>1.000000</td>\n",
       "      <td>1.000000</td>\n",
       "      <td>1.000000</td>\n",
       "      <td>1.000000</td>\n",
       "      <td>1.000000</td>\n",
       "      <td>0.000000</td>\n",
       "    </tr>\n",
       "    <tr>\n",
       "      <th>2</th>\n",
       "      <td>0.006009</td>\n",
       "      <td>0.003469</td>\n",
       "      <td>0.003998</td>\n",
       "      <td>0.003998</td>\n",
       "      <td>linear</td>\n",
       "      <td>scale</td>\n",
       "      <td>7</td>\n",
       "      <td>{'kernel': 'linear', 'gamma': 'scale', 'C': 7}</td>\n",
       "      <td>1.00000</td>\n",
       "      <td>1.0</td>\n",
       "      <td>...</td>\n",
       "      <td>1.000000</td>\n",
       "      <td>1.000000</td>\n",
       "      <td>0.000000</td>\n",
       "      <td>1</td>\n",
       "      <td>1.000000</td>\n",
       "      <td>1.000000</td>\n",
       "      <td>1.000000</td>\n",
       "      <td>1.000000</td>\n",
       "      <td>1.000000</td>\n",
       "      <td>0.000000</td>\n",
       "    </tr>\n",
       "    <tr>\n",
       "      <th>3</th>\n",
       "      <td>0.007922</td>\n",
       "      <td>0.005524</td>\n",
       "      <td>0.000000</td>\n",
       "      <td>0.000000</td>\n",
       "      <td>rbf</td>\n",
       "      <td>scale</td>\n",
       "      <td>5</td>\n",
       "      <td>{'kernel': 'rbf', 'gamma': 'scale', 'C': 5}</td>\n",
       "      <td>0.92381</td>\n",
       "      <td>1.0</td>\n",
       "      <td>...</td>\n",
       "      <td>0.884615</td>\n",
       "      <td>0.920856</td>\n",
       "      <td>0.049215</td>\n",
       "      <td>4</td>\n",
       "      <td>0.936102</td>\n",
       "      <td>0.964856</td>\n",
       "      <td>0.929936</td>\n",
       "      <td>0.917197</td>\n",
       "      <td>0.937023</td>\n",
       "      <td>0.017456</td>\n",
       "    </tr>\n",
       "  </tbody>\n",
       "</table>\n",
       "<p>4 rows × 21 columns</p>\n",
       "</div>"
      ],
      "text/plain": [
       "   mean_fit_time  std_fit_time  mean_score_time  std_score_time param_kernel  \\\n",
       "0       0.004007      0.004007         0.002001        0.003466       linear   \n",
       "1       0.001999      0.003463         0.004000        0.004000       linear   \n",
       "2       0.006009      0.003469         0.003998        0.003998       linear   \n",
       "3       0.007922      0.005524         0.000000        0.000000          rbf   \n",
       "\n",
       "  param_gamma param_C                                          params  \\\n",
       "0       scale       1  {'kernel': 'linear', 'gamma': 'scale', 'C': 1}   \n",
       "1        auto       7   {'kernel': 'linear', 'gamma': 'auto', 'C': 7}   \n",
       "2       scale       7  {'kernel': 'linear', 'gamma': 'scale', 'C': 7}   \n",
       "3       scale       5     {'kernel': 'rbf', 'gamma': 'scale', 'C': 5}   \n",
       "\n",
       "   split0_test_score  split1_test_score  ...  split3_test_score  \\\n",
       "0            1.00000                1.0  ...           1.000000   \n",
       "1            1.00000                1.0  ...           1.000000   \n",
       "2            1.00000                1.0  ...           1.000000   \n",
       "3            0.92381                1.0  ...           0.884615   \n",
       "\n",
       "   mean_test_score  std_test_score  rank_test_score  split0_train_score  \\\n",
       "0         1.000000        0.000000                1            1.000000   \n",
       "1         1.000000        0.000000                1            1.000000   \n",
       "2         1.000000        0.000000                1            1.000000   \n",
       "3         0.920856        0.049215                4            0.936102   \n",
       "\n",
       "   split1_train_score  split2_train_score  split3_train_score  \\\n",
       "0            1.000000            1.000000            1.000000   \n",
       "1            1.000000            1.000000            1.000000   \n",
       "2            1.000000            1.000000            1.000000   \n",
       "3            0.964856            0.929936            0.917197   \n",
       "\n",
       "   mean_train_score  std_train_score  \n",
       "0          1.000000         0.000000  \n",
       "1          1.000000         0.000000  \n",
       "2          1.000000         0.000000  \n",
       "3          0.937023         0.017456  \n",
       "\n",
       "[4 rows x 21 columns]"
      ]
     },
     "execution_count": 153,
     "metadata": {},
     "output_type": "execute_result"
    }
   ],
   "source": [
    "db2 = pd.DataFrame(rs.cv_results_)\n",
    "db2"
   ]
  },
  {
   "cell_type": "code",
   "execution_count": 154,
   "id": "6380a8c6",
   "metadata": {},
   "outputs": [
    {
     "data": {
      "text/html": [
       "<div>\n",
       "<style scoped>\n",
       "    .dataframe tbody tr th:only-of-type {\n",
       "        vertical-align: middle;\n",
       "    }\n",
       "\n",
       "    .dataframe tbody tr th {\n",
       "        vertical-align: top;\n",
       "    }\n",
       "\n",
       "    .dataframe thead th {\n",
       "        text-align: right;\n",
       "    }\n",
       "</style>\n",
       "<table border=\"1\" class=\"dataframe\">\n",
       "  <thead>\n",
       "    <tr style=\"text-align: right;\">\n",
       "      <th></th>\n",
       "      <th>param_C</th>\n",
       "      <th>param_gamma</th>\n",
       "      <th>param_kernel</th>\n",
       "      <th>mean_test_score</th>\n",
       "    </tr>\n",
       "  </thead>\n",
       "  <tbody>\n",
       "    <tr>\n",
       "      <th>0</th>\n",
       "      <td>1</td>\n",
       "      <td>scale</td>\n",
       "      <td>linear</td>\n",
       "      <td>1.000000</td>\n",
       "    </tr>\n",
       "    <tr>\n",
       "      <th>1</th>\n",
       "      <td>7</td>\n",
       "      <td>auto</td>\n",
       "      <td>linear</td>\n",
       "      <td>1.000000</td>\n",
       "    </tr>\n",
       "    <tr>\n",
       "      <th>2</th>\n",
       "      <td>7</td>\n",
       "      <td>scale</td>\n",
       "      <td>linear</td>\n",
       "      <td>1.000000</td>\n",
       "    </tr>\n",
       "    <tr>\n",
       "      <th>3</th>\n",
       "      <td>5</td>\n",
       "      <td>scale</td>\n",
       "      <td>rbf</td>\n",
       "      <td>0.920856</td>\n",
       "    </tr>\n",
       "  </tbody>\n",
       "</table>\n",
       "</div>"
      ],
      "text/plain": [
       "  param_C param_gamma param_kernel  mean_test_score\n",
       "0       1       scale       linear         1.000000\n",
       "1       7        auto       linear         1.000000\n",
       "2       7       scale       linear         1.000000\n",
       "3       5       scale          rbf         0.920856"
      ]
     },
     "execution_count": 154,
     "metadata": {},
     "output_type": "execute_result"
    }
   ],
   "source": [
    "db2[['param_C','param_gamma','param_kernel','mean_test_score']]"
   ]
  },
  {
   "cell_type": "code",
   "execution_count": 155,
   "id": "e0302ffc",
   "metadata": {},
   "outputs": [
    {
     "data": {
      "text/plain": [
       "{'kernel': 'linear', 'gamma': 'scale', 'C': 1}"
      ]
     },
     "execution_count": 155,
     "metadata": {},
     "output_type": "execute_result"
    }
   ],
   "source": [
    "rs.best_params_"
   ]
  },
  {
   "cell_type": "code",
   "execution_count": 156,
   "id": "061af2f8",
   "metadata": {},
   "outputs": [
    {
     "data": {
      "text/plain": [
       "1.0"
      ]
     },
     "execution_count": 156,
     "metadata": {},
     "output_type": "execute_result"
    }
   ],
   "source": [
    "rs.best_score_"
   ]
  },
  {
   "cell_type": "markdown",
   "id": "258543f0",
   "metadata": {},
   "source": [
    "# USING DECISION TREE ALGORITHM"
   ]
  },
  {
   "cell_type": "code",
   "execution_count": 746,
   "id": "1ac361d2",
   "metadata": {},
   "outputs": [],
   "source": [
    "from sklearn.tree import DecisionTreeClassifier"
   ]
  },
  {
   "cell_type": "code",
   "execution_count": 747,
   "id": "a5c4c6f7",
   "metadata": {},
   "outputs": [],
   "source": [
    "model_dt=DecisionTreeClassifier()"
   ]
  },
  {
   "cell_type": "code",
   "execution_count": 748,
   "id": "7c339bf2",
   "metadata": {},
   "outputs": [
    {
     "data": {
      "text/plain": [
       "DecisionTreeClassifier()"
      ]
     },
     "execution_count": 748,
     "metadata": {},
     "output_type": "execute_result"
    }
   ],
   "source": [
    "model_dt.fit(x_train,y_train)"
   ]
  },
  {
   "cell_type": "code",
   "execution_count": 749,
   "id": "d0319912",
   "metadata": {},
   "outputs": [],
   "source": [
    "y_pred=model_dt.predict(x_test)"
   ]
  },
  {
   "cell_type": "code",
   "execution_count": 750,
   "id": "e60a74f6",
   "metadata": {},
   "outputs": [],
   "source": [
    "acc4=accuracy_score(y_test,y_pred)"
   ]
  },
  {
   "cell_type": "code",
   "execution_count": 751,
   "id": "cfd04a7d",
   "metadata": {},
   "outputs": [
    {
     "data": {
      "text/plain": [
       "1.0"
      ]
     },
     "execution_count": 751,
     "metadata": {},
     "output_type": "execute_result"
    }
   ],
   "source": [
    "acc4"
   ]
  },
  {
   "cell_type": "code",
   "execution_count": 752,
   "id": "306eb09e",
   "metadata": {},
   "outputs": [
    {
     "data": {
      "text/plain": [
       "array([1], dtype=int64)"
      ]
     },
     "execution_count": 752,
     "metadata": {},
     "output_type": "execute_result"
    }
   ],
   "source": [
    "model_dt.predict([[1,1,20]])"
   ]
  },
  {
   "cell_type": "code",
   "execution_count": 753,
   "id": "786eb82c",
   "metadata": {},
   "outputs": [
    {
     "data": {
      "text/plain": [
       "array([1], dtype=int64)"
      ]
     },
     "execution_count": 753,
     "metadata": {},
     "output_type": "execute_result"
    }
   ],
   "source": [
    "model_dt.predict([[2,7,69]])"
   ]
  },
  {
   "cell_type": "code",
   "execution_count": 754,
   "id": "99bd73eb",
   "metadata": {},
   "outputs": [
    {
     "data": {
      "text/plain": [
       "array([0], dtype=int64)"
      ]
     },
     "execution_count": 754,
     "metadata": {},
     "output_type": "execute_result"
    }
   ],
   "source": [
    "model_dt.predict([[3,0,32]])"
   ]
  },
  {
   "cell_type": "markdown",
   "id": "59738e21",
   "metadata": {},
   "source": [
    "# USING KNN ALGORITHM"
   ]
  },
  {
   "cell_type": "code",
   "execution_count": 755,
   "id": "c641c020",
   "metadata": {},
   "outputs": [],
   "source": [
    "from sklearn.neighbors import KNeighborsClassifier"
   ]
  },
  {
   "cell_type": "code",
   "execution_count": 756,
   "id": "2d75c24d",
   "metadata": {},
   "outputs": [],
   "source": [
    "model_kn=KNeighborsClassifier()"
   ]
  },
  {
   "cell_type": "code",
   "execution_count": 757,
   "id": "f0b87e47",
   "metadata": {},
   "outputs": [
    {
     "data": {
      "text/plain": [
       "KNeighborsClassifier()"
      ]
     },
     "execution_count": 757,
     "metadata": {},
     "output_type": "execute_result"
    }
   ],
   "source": [
    "model_kn.fit(x_train,y_train)"
   ]
  },
  {
   "cell_type": "code",
   "execution_count": 758,
   "id": "de5c012f",
   "metadata": {},
   "outputs": [],
   "source": [
    "y_pred=model_kn.predict(x_test)"
   ]
  },
  {
   "cell_type": "code",
   "execution_count": 759,
   "id": "15bfb3a4",
   "metadata": {},
   "outputs": [
    {
     "data": {
      "text/plain": [
       "0.9285714285714286"
      ]
     },
     "execution_count": 759,
     "metadata": {},
     "output_type": "execute_result"
    }
   ],
   "source": [
    "acc5=accuracy_score(y_test,y_pred)\n",
    "acc5"
   ]
  },
  {
   "cell_type": "code",
   "execution_count": 760,
   "id": "e3c1b56a",
   "metadata": {},
   "outputs": [
    {
     "data": {
      "text/plain": [
       "array([0], dtype=int64)"
      ]
     },
     "execution_count": 760,
     "metadata": {},
     "output_type": "execute_result"
    }
   ],
   "source": [
    "model_kn.predict([[3,1,32]])"
   ]
  },
  {
   "cell_type": "code",
   "execution_count": 761,
   "id": "ed030b30",
   "metadata": {},
   "outputs": [
    {
     "data": {
      "text/plain": [
       "array([1], dtype=int64)"
      ]
     },
     "execution_count": 761,
     "metadata": {},
     "output_type": "execute_result"
    }
   ],
   "source": [
    "model_kn.predict([[1,1,32]])"
   ]
  },
  {
   "cell_type": "markdown",
   "id": "ac261429",
   "metadata": {},
   "source": [
    "# USING RANDOMFOREST ALGORITHM"
   ]
  },
  {
   "cell_type": "code",
   "execution_count": 762,
   "id": "98a36abd",
   "metadata": {},
   "outputs": [],
   "source": [
    "from sklearn.ensemble import RandomForestClassifier"
   ]
  },
  {
   "cell_type": "code",
   "execution_count": 763,
   "id": "dc2c4477",
   "metadata": {},
   "outputs": [],
   "source": [
    "model_rf=RandomForestClassifier()"
   ]
  },
  {
   "cell_type": "code",
   "execution_count": 764,
   "id": "addcc290",
   "metadata": {},
   "outputs": [
    {
     "data": {
      "text/plain": [
       "RandomForestClassifier()"
      ]
     },
     "execution_count": 764,
     "metadata": {},
     "output_type": "execute_result"
    }
   ],
   "source": [
    "model_rf.fit(x_train,y_train)"
   ]
  },
  {
   "cell_type": "code",
   "execution_count": 765,
   "id": "d3448d7f",
   "metadata": {},
   "outputs": [],
   "source": [
    "y_pred=model_rf.predict(x_test)"
   ]
  },
  {
   "cell_type": "code",
   "execution_count": 766,
   "id": "d521c162",
   "metadata": {},
   "outputs": [
    {
     "data": {
      "text/plain": [
       "1.0"
      ]
     },
     "execution_count": 766,
     "metadata": {},
     "output_type": "execute_result"
    }
   ],
   "source": [
    "acc6=accuracy_score(y_test,y_pred)\n",
    "acc6"
   ]
  },
  {
   "cell_type": "code",
   "execution_count": 767,
   "id": "01b4f09c",
   "metadata": {},
   "outputs": [
    {
     "data": {
      "text/plain": [
       "array([1], dtype=int64)"
      ]
     },
     "execution_count": 767,
     "metadata": {},
     "output_type": "execute_result"
    }
   ],
   "source": [
    "model_rf.predict([[3,1,32]])"
   ]
  },
  {
   "cell_type": "code",
   "execution_count": 768,
   "id": "d681edc9",
   "metadata": {},
   "outputs": [
    {
     "data": {
      "text/plain": [
       "array([1], dtype=int64)"
      ]
     },
     "execution_count": 768,
     "metadata": {},
     "output_type": "execute_result"
    }
   ],
   "source": [
    "model_rf.predict([[3,1,22]])"
   ]
  },
  {
   "cell_type": "code",
   "execution_count": 769,
   "id": "28b0022e",
   "metadata": {},
   "outputs": [
    {
     "data": {
      "text/plain": [
       "array([1], dtype=int64)"
      ]
     },
     "execution_count": 769,
     "metadata": {},
     "output_type": "execute_result"
    }
   ],
   "source": [
    "model_rf.predict([[2,1,20]])"
   ]
  },
  {
   "cell_type": "markdown",
   "id": "e4cad548",
   "metadata": {},
   "source": [
    "# USING ADABOOST ALGORITHM"
   ]
  },
  {
   "cell_type": "code",
   "execution_count": 770,
   "id": "75b6d6d0",
   "metadata": {},
   "outputs": [],
   "source": [
    "from sklearn.ensemble import AdaBoostClassifier"
   ]
  },
  {
   "cell_type": "code",
   "execution_count": 771,
   "id": "009affa1",
   "metadata": {},
   "outputs": [],
   "source": [
    "model_ab=AdaBoostClassifier()"
   ]
  },
  {
   "cell_type": "code",
   "execution_count": 772,
   "id": "7797814f",
   "metadata": {},
   "outputs": [
    {
     "data": {
      "text/plain": [
       "AdaBoostClassifier()"
      ]
     },
     "execution_count": 772,
     "metadata": {},
     "output_type": "execute_result"
    }
   ],
   "source": [
    "model_ab.fit(x_train,y_train)"
   ]
  },
  {
   "cell_type": "code",
   "execution_count": 773,
   "id": "f02b676d",
   "metadata": {},
   "outputs": [],
   "source": [
    "y_pred=model_ab.predict(x_test)"
   ]
  },
  {
   "cell_type": "code",
   "execution_count": 774,
   "id": "5c914947",
   "metadata": {},
   "outputs": [
    {
     "data": {
      "text/plain": [
       "1.0"
      ]
     },
     "execution_count": 774,
     "metadata": {},
     "output_type": "execute_result"
    }
   ],
   "source": [
    "acc7=accuracy_score(y_test,y_pred)\n",
    "acc7"
   ]
  },
  {
   "cell_type": "code",
   "execution_count": 775,
   "id": "6995ca52",
   "metadata": {},
   "outputs": [
    {
     "data": {
      "text/plain": [
       "array([0], dtype=int64)"
      ]
     },
     "execution_count": 775,
     "metadata": {},
     "output_type": "execute_result"
    }
   ],
   "source": [
    "model_ab.predict([[3,0,23]])"
   ]
  },
  {
   "cell_type": "code",
   "execution_count": 776,
   "id": "df39b9c4",
   "metadata": {},
   "outputs": [
    {
     "data": {
      "text/plain": [
       "array([1], dtype=int64)"
      ]
     },
     "execution_count": 776,
     "metadata": {},
     "output_type": "execute_result"
    }
   ],
   "source": [
    "model_ab.predict([[3,1,34]])"
   ]
  },
  {
   "cell_type": "markdown",
   "id": "04259ad3",
   "metadata": {},
   "source": [
    "# USING GRADIENT ALGORITHM"
   ]
  },
  {
   "cell_type": "code",
   "execution_count": 777,
   "id": "937bb162",
   "metadata": {},
   "outputs": [],
   "source": [
    "from sklearn.ensemble import GradientBoostingClassifier"
   ]
  },
  {
   "cell_type": "code",
   "execution_count": 778,
   "id": "9a7496ca",
   "metadata": {},
   "outputs": [],
   "source": [
    "model_g=GradientBoostingClassifier()"
   ]
  },
  {
   "cell_type": "code",
   "execution_count": 779,
   "id": "82e95397",
   "metadata": {},
   "outputs": [
    {
     "data": {
      "text/plain": [
       "GradientBoostingClassifier()"
      ]
     },
     "execution_count": 779,
     "metadata": {},
     "output_type": "execute_result"
    }
   ],
   "source": [
    "model_g.fit(x_train,y_train)"
   ]
  },
  {
   "cell_type": "code",
   "execution_count": 780,
   "id": "059f0989",
   "metadata": {},
   "outputs": [],
   "source": [
    "y_pred=model_g.predict(x_test)"
   ]
  },
  {
   "cell_type": "code",
   "execution_count": 781,
   "id": "7b8eb92b",
   "metadata": {},
   "outputs": [
    {
     "data": {
      "text/plain": [
       "1.0"
      ]
     },
     "execution_count": 781,
     "metadata": {},
     "output_type": "execute_result"
    }
   ],
   "source": [
    "acc8=accuracy_score(y_test,y_pred)\n",
    "acc8"
   ]
  },
  {
   "cell_type": "code",
   "execution_count": 782,
   "id": "07146c65",
   "metadata": {},
   "outputs": [
    {
     "data": {
      "text/plain": [
       "array([0], dtype=int64)"
      ]
     },
     "execution_count": 782,
     "metadata": {},
     "output_type": "execute_result"
    }
   ],
   "source": [
    "model_g.predict([[3,0,23]])"
   ]
  },
  {
   "cell_type": "code",
   "execution_count": 783,
   "id": "e426c3d5",
   "metadata": {},
   "outputs": [
    {
     "data": {
      "text/plain": [
       "array([1], dtype=int64)"
      ]
     },
     "execution_count": 783,
     "metadata": {},
     "output_type": "execute_result"
    }
   ],
   "source": [
    "model_g.predict([[3,1,39]])"
   ]
  },
  {
   "cell_type": "markdown",
   "id": "0fe08e10",
   "metadata": {},
   "source": [
    "# USING XGBOOST ALGORITHM"
   ]
  },
  {
   "cell_type": "code",
   "execution_count": 784,
   "id": "c2dabc80",
   "metadata": {},
   "outputs": [],
   "source": [
    "from xgboost import XGBClassifier"
   ]
  },
  {
   "cell_type": "code",
   "execution_count": 785,
   "id": "f473480b",
   "metadata": {},
   "outputs": [],
   "source": [
    "model_x=XGBClassifier()"
   ]
  },
  {
   "cell_type": "code",
   "execution_count": 786,
   "id": "89b772d8",
   "metadata": {},
   "outputs": [
    {
     "name": "stdout",
     "output_type": "stream",
     "text": [
      "[00:42:02] WARNING: D:\\Build\\xgboost\\xgboost-1.4.2.git\\src\\learner.cc:1095: Starting in XGBoost 1.3.0, the default evaluation metric used with the objective 'binary:logistic' was changed from 'error' to 'logloss'. Explicitly set eval_metric if you'd like to restore the old behavior.\n"
     ]
    },
    {
     "name": "stderr",
     "output_type": "stream",
     "text": [
      "c:\\python 3.8\\lib\\site-packages\\xgboost\\sklearn.py:1146: UserWarning: The use of label encoder in XGBClassifier is deprecated and will be removed in a future release. To remove this warning, do the following: 1) Pass option use_label_encoder=False when constructing XGBClassifier object; and 2) Encode your labels (y) as integers starting with 0, i.e. 0, 1, 2, ..., [num_class - 1].\n",
      "  warnings.warn(label_encoder_deprecation_msg, UserWarning)\n"
     ]
    },
    {
     "data": {
      "text/plain": [
       "XGBClassifier(base_score=0.5, booster='gbtree', colsample_bylevel=1,\n",
       "              colsample_bynode=1, colsample_bytree=1, gamma=0, gpu_id=-1,\n",
       "              importance_type='gain', interaction_constraints='',\n",
       "              learning_rate=0.300000012, max_delta_step=0, max_depth=6,\n",
       "              min_child_weight=1, missing=nan, monotone_constraints='()',\n",
       "              n_estimators=100, n_jobs=4, num_parallel_tree=1, random_state=0,\n",
       "              reg_alpha=0, reg_lambda=1, scale_pos_weight=1, subsample=1,\n",
       "              tree_method='exact', validate_parameters=1, verbosity=None)"
      ]
     },
     "execution_count": 786,
     "metadata": {},
     "output_type": "execute_result"
    }
   ],
   "source": [
    "model_x.fit(x_train,y_train)"
   ]
  },
  {
   "cell_type": "code",
   "execution_count": 787,
   "id": "344dba34",
   "metadata": {},
   "outputs": [],
   "source": [
    "y_pred=model_x.predict(x_test)"
   ]
  },
  {
   "cell_type": "code",
   "execution_count": 788,
   "id": "b7186753",
   "metadata": {},
   "outputs": [
    {
     "data": {
      "text/plain": [
       "1.0"
      ]
     },
     "execution_count": 788,
     "metadata": {},
     "output_type": "execute_result"
    }
   ],
   "source": [
    "acc9=accuracy_score(y_test,y_pred)\n",
    "acc9"
   ]
  },
  {
   "cell_type": "code",
   "execution_count": 789,
   "id": "06c8c198",
   "metadata": {},
   "outputs": [
    {
     "data": {
      "text/plain": [
       "array([0], dtype=int64)"
      ]
     },
     "execution_count": 789,
     "metadata": {},
     "output_type": "execute_result"
    }
   ],
   "source": [
    "model_x.predict(np.array([[3,0,23]]))"
   ]
  },
  {
   "cell_type": "code",
   "execution_count": 790,
   "id": "248591c6",
   "metadata": {},
   "outputs": [
    {
     "data": {
      "text/plain": [
       "array([1], dtype=int64)"
      ]
     },
     "execution_count": 790,
     "metadata": {},
     "output_type": "execute_result"
    }
   ],
   "source": [
    "model_x.predict(np.array([[3,1,34]]))"
   ]
  }
 ],
 "metadata": {
  "kernelspec": {
   "display_name": "Python 3 (ipykernel)",
   "language": "python",
   "name": "python3"
  },
  "language_info": {
   "codemirror_mode": {
    "name": "ipython",
    "version": 3
   },
   "file_extension": ".py",
   "mimetype": "text/x-python",
   "name": "python",
   "nbconvert_exporter": "python",
   "pygments_lexer": "ipython3",
   "version": "3.8.5"
  }
 },
 "nbformat": 4,
 "nbformat_minor": 5
}
